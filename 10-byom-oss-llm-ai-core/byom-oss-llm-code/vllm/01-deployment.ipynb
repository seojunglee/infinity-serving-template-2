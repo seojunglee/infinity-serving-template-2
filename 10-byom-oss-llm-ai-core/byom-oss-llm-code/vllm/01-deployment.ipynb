{
 "cells": [
  {
   "cell_type": "markdown",
   "id": "e7dea42f",
   "metadata": {},
   "source": [
    "### Introduction\n",
    "This notebook illustrates and automates the Continuous Deployment process for bringing the popular open-source large language models backend [vLLM](https://docs.vllm.ai/) into SAP AI Core. Running Llama 2, Mistral, Mixtral, LLaVa, Gemma, and other large language models in SAP AI Core through BYOM(Bring Your Own Model) approach. <br/>\n",
    "\n",
    "### Prerequisites\n",
    "Before running this notebook, please assure you have perform the [Prerequisites](../../README.md)<br/><br/>\n",
    "\n",
    "If the configuration of vllm scenario is created through SAP AI Launchpad instead of running [00-init-config.ipynb](../00-init-config.ipynb), please manually update the configuration_id in [env.json](env.json)\n",
    "```json\n",
    "{\n",
    "    \"configuration_id\": \"<YOUR_CONFIGURATION_ID_OF_VLLM_SCENARIO>\",\n",
    "    \"deployment_id\": \"<WILL_BE_UPDATED_BY_THIS_NOTEBOOK>\"\n",
    "}\n",
    "```\n",
    " \n",
    "### The high-level flow of this Continuous Deployment process:\n",
    "- Build a custom docker image adapted for SAP AI Core<br/>\n",
    "- Push the docker image to docker hub<br/>\n",
    "- Connect to SAP AI Core via SDK<br/>\n",
    "- Create a deployment<br/>\n",
    "- Check the status and logs of the deployment<br/>\n"
   ]
  },
  {
   "cell_type": "markdown",
   "id": "3925c841",
   "metadata": {},
   "source": [
    "#### 1.Build a custom docker image adapted for SAP AI Core\n",
    "Please refer to [Dockerfile](Dockerfile) for details."
   ]
  },
  {
   "cell_type": "code",
   "execution_count": 2,
   "id": "42dfb1be",
   "metadata": {},
   "outputs": [
    {
     "name": "stderr",
     "output_type": "stream",
     "text": [
      "#1 [internal] load .dockerignore\n",
      "#1 transferring context: 2B done\n",
      "#1 DONE 0.0s\n",
      "\n",
      "#2 [internal] load build definition from Dockerfile\n",
      "#2 transferring dockerfile: 650B 0.0s done\n",
      "#2 DONE 0.0s\n",
      "\n",
      "#3 [internal] load metadata for docker.io/vllm/vllm-openai:latest\n",
      "#3 ...\n",
      "\n",
      "#4 [auth] vllm/vllm-openai:pull token for registry-1.docker.io\n",
      "#4 DONE 0.0s\n",
      "\n",
      "#3 [internal] load metadata for docker.io/vllm/vllm-openai:latest\n",
      "#3 DONE 3.5s\n",
      "\n",
      "#5 [1/2] FROM docker.io/vllm/vllm-openai:latest@sha256:4aea20de3b421f7775cfdc6468a04a29d0fcfc3603ad3b18aab4ef1f4652769d\n",
      "#5 DONE 0.0s\n",
      "\n",
      "#6 [2/2] RUN mkdir -p /nonexistent/ &&    mkdir -p /hf-home/ &&     chown -R nobody:nogroup /nonexistent /hf-home/ &&     chmod -R 770 /nonexistent/ /hf-home/\n",
      "#6 CACHED\n",
      "\n",
      "#7 exporting to image\n",
      "#7 exporting layers done\n",
      "#7 writing image sha256:571d9541e6a7c5208c277740a0e03ccdb98bdecbc113c2e9ec8997a8d8994848 done\n",
      "#7 naming to docker.io/yatsea/vllm-openai:ai-core done\n",
      "#7 DONE 0.0s\n"
     ]
    }
   ],
   "source": [
    "%%sh\n",
    "# 0.Login to docker hub\n",
    "docker login -u <YOUR_DOCKER_USER> -p <YOUR_DOCKER_ACCESS_TOKEN>\n",
    "\n",
    "# 1.Build the docker image\n",
    "docker build \\\n",
    "\t\t--platform=linux/amd64 \\\n",
    "\t\t-t docker.io/<YOUR_DOCKER_USER>/vllm-openai:ai-core ."
   ]
  },
  {
   "cell_type": "markdown",
   "id": "6081a7cf",
   "metadata": {},
   "source": [
    "#### 2.Push the docker image to docker hub"
   ]
  },
  {
   "cell_type": "code",
   "execution_count": 3,
   "id": "aa521107",
   "metadata": {},
   "outputs": [
    {
     "name": "stdout",
     "output_type": "stream",
     "text": [
      "The push refers to repository [docker.io/yatsea/vllm-openai]\n",
      "a653179dc050: Preparing\n",
      "12947d07ed5f: Preparing\n",
      "067e9baa9a0d: Preparing\n",
      "214b6ff61148: Preparing\n",
      "0fd53473730f: Preparing\n",
      "ca336086e060: Preparing\n",
      "c501b4875b93: Preparing\n",
      "674396d66abf: Preparing\n",
      "600c676771a0: Preparing\n",
      "6ac15100dff6: Preparing\n",
      "40f0eb1871b9: Preparing\n",
      "8d113b7b997c: Preparing\n",
      "cd77f58b80cd: Preparing\n",
      "e4b1bddcbe63: Preparing\n",
      "765423415d69: Preparing\n",
      "7b9433fba79b: Preparing\n",
      "256d88da4185: Preparing\n",
      "6ac15100dff6: Waiting\n",
      "40f0eb1871b9: Waiting\n",
      "8d113b7b997c: Waiting\n",
      "cd77f58b80cd: Waiting\n",
      "ca336086e060: Waiting\n",
      "c501b4875b93: Waiting\n",
      "674396d66abf: Waiting\n",
      "600c676771a0: Waiting\n",
      "e4b1bddcbe63: Waiting\n",
      "765423415d69: Waiting\n",
      "7b9433fba79b: Waiting\n",
      "256d88da4185: Waiting\n",
      "0fd53473730f: Layer already exists\n",
      "12947d07ed5f: Layer already exists\n",
      "067e9baa9a0d: Layer already exists\n",
      "214b6ff61148: Layer already exists\n",
      "a653179dc050: Layer already exists\n",
      "c501b4875b93: Layer already exists\n",
      "674396d66abf: Layer already exists\n",
      "ca336086e060: Layer already exists\n",
      "600c676771a0: Layer already exists\n",
      "6ac15100dff6: Layer already exists\n",
      "cd77f58b80cd: Layer already exists\n",
      "e4b1bddcbe63: Layer already exists\n",
      "8d113b7b997c: Layer already exists\n",
      "40f0eb1871b9: Layer already exists\n",
      "765423415d69: Layer already exists\n",
      "7b9433fba79b: Layer already exists\n",
      "256d88da4185: Layer already exists\n",
      "ai-core: digest: sha256:38d470d22254e5f7f282a85bb2a59a8adbd654b1063ad587b8e0a5edb9b2504b size: 3886\n"
     ]
    }
   ],
   "source": [
    "%%sh\n",
    "# 2.Push the docker image to docker hub to be used by deployment in SAP AI Core\n",
    "docker push docker.io/<YOUR_DOCKER_USER>/vllm-openai:ai-core"
   ]
  },
  {
   "cell_type": "markdown",
   "id": "9332238f",
   "metadata": {},
   "source": [
    "#### 3.Initiate an SAP AI Core SDK client\n",
    "- resource_group loaded from [../config.json](../config.json)\n",
    "- ai_core_sk(service key) loaded from [../config.json](../config.json)"
   ]
  },
  {
   "cell_type": "code",
   "execution_count": 4,
   "id": "90f1e9af",
   "metadata": {},
   "outputs": [],
   "source": [
    "import requests, json, time, datetime\n",
    "from datetime import datetime\n",
    "from ai_core_sdk.ai_core_v2_client import AICoreV2Client"
   ]
  },
  {
   "cell_type": "code",
   "execution_count": 5,
   "id": "12912738",
   "metadata": {},
   "outputs": [
    {
     "name": "stdout",
     "output_type": "stream",
     "text": [
      "resource group:  oss-llm\n"
     ]
    }
   ],
   "source": [
    "# load the configuration from ../config.json \n",
    "with open(\"../config.json\") as f:\n",
    "    config = json.load(f)\n",
    "\n",
    "resource_group = config.get(\"resource_group\", \"default\")\n",
    "print( \"resource group: \", resource_group)"
   ]
  },
  {
   "cell_type": "code",
   "execution_count": 6,
   "id": "7654d1be",
   "metadata": {},
   "outputs": [],
   "source": [
    "# Initiate an AI Core SDK client with the information of service key\n",
    "ai_core_sk = config[\"ai_core_service_key\"]\n",
    "base_url = ai_core_sk.get(\"serviceurls\").get(\"AI_API_URL\") + \"/v2/lm\"\n",
    "client = AICoreV2Client(base_url=ai_core_sk.get(\"serviceurls\").get(\"AI_API_URL\")+\"/v2\",\n",
    "                        auth_url=ai_core_sk.get(\"url\")+\"/oauth/token\",\n",
    "                        client_id=ai_core_sk.get(\"clientid\"),\n",
    "                        client_secret=ai_core_sk.get(\"clientsecret\"),\n",
    "                        resource_group=resource_group)"
   ]
  },
  {
   "cell_type": "code",
   "execution_count": 7,
   "id": "3c5b6e34",
   "metadata": {},
   "outputs": [],
   "source": [
    "# Prepare the http header which will be used later through request.\n",
    "token = client.rest_client.get_token()\n",
    "headers = {\n",
    "    \"Authorization\": token,\n",
    "    \"ai-resource-group\": resource_group,\n",
    "    \"Content-Type\": \"application/json\",\n",
    "}"
   ]
  },
  {
   "cell_type": "markdown",
   "id": "d440ee60",
   "metadata": {},
   "source": [
    "#### 4.Create a deployment for llama.cpp scenario\n",
    "To create a deployment in SAP AI Core, it requires the corresponding resource_group and configuration_id\n",
    "- resource_group loaded from [../config.json](../config.json)\n",
    "- configuration_id of  loaded from [env.json](env.json)"
   ]
  },
  {
   "cell_type": "code",
   "execution_count": 8,
   "id": "788f8134",
   "metadata": {},
   "outputs": [
    {
     "name": "stdout",
     "output_type": "stream",
     "text": [
      "configuration id: 6a640f56-df21-487e-855b-5e1cde04bd9c\n"
     ]
    }
   ],
   "source": [
    "# resource_group: The target resource group to create the deployment\n",
    "# configuration_id: The target configuration to create the deployment, which is created in ../00-init-config.ipynb \n",
    "with open(\"./env.json\") as f:\n",
    "    env = json.load(f)\n",
    "\n",
    "configuration_id = env[\"configuration_id\"]\n",
    "print(\"configuration id:\", configuration_id)"
   ]
  },
  {
   "cell_type": "markdown",
   "id": "728f8856",
   "metadata": {},
   "source": [
    "**Helper function**\n",
    "- get the current UTC time in yyyy-mm-dd hh:mm:ss format, to be used to filter deployments logs"
   ]
  },
  {
   "cell_type": "code",
   "execution_count": 9,
   "id": "b2c097ba",
   "metadata": {},
   "outputs": [],
   "source": [
    "# Helper function to get the current time in UTC, used to filter deployments logs\n",
    "def get_current_time():  \n",
    "    current_time = datetime.utcnow()\n",
    "    # Format current time in the desired format\n",
    "    formatted_time = current_time.strftime(\"%Y-%m-%dT%H:%M:%S.%fZ\")\n",
    "    return formatted_time"
   ]
  },
  {
   "cell_type": "markdown",
   "id": "2ff6ef20",
   "metadata": {},
   "source": [
    "**Helper function**\n",
    "- Write back the configuration value back to configuration json file"
   ]
  },
  {
   "cell_type": "code",
   "execution_count": 10,
   "id": "9df6fa43",
   "metadata": {},
   "outputs": [],
   "source": [
    "# Helper function to write back the configuration value back to configuration json file\n",
    "def update_json_file(file_path, key, value):\n",
    "    # Load the JSON configuration file\n",
    "    with open(file_path, 'r') as file:\n",
    "        config = json.load(file)\n",
    "\n",
    "    # Update the value\n",
    "    config[key] = value\n",
    "\n",
    "    # Write the updated configuration back to the file\n",
    "    with open(file_path, 'w') as file:\n",
    "        json.dump(config, file, indent=4)\n",
    "        print(f\"{file_path} updated. {key}: {value}\")"
   ]
  },
  {
   "cell_type": "markdown",
   "id": "d9e20a1a",
   "metadata": {},
   "source": [
    "**Create a deployment for llama.cpp in SAP AI Core**\n",
    "- configuration_id\n",
    "- resource_group\n",
    "<br/><br/>\n",
    "The created deployment id will be written back to [env.json](env.json), which will be used in\n",
    "- [02-vllm.ipynb](02-vllm.ipynb)to test the inference of open-source llms with llama.cpp server in SAP AI Core\n",
    "- [04-cleanup.ipynb](04-cleanup.ipynb) to stop and delete the deployment and clean up the resource."
   ]
  },
  {
   "cell_type": "code",
   "execution_count": 11,
   "id": "ab19296d",
   "metadata": {},
   "outputs": [
    {
     "name": "stdout",
     "output_type": "stream",
     "text": [
      "Creating deployment.\n",
      "env.json updated. deployment_id: d2205e6da6740a73\n",
      "Deployment Result:\n",
      " {'id': 'd2205e6da6740a73', 'message': 'Deployment scheduled.', 'deployment_url': '', 'status': <Status.UNKNOWN: 'UNKNOWN'>, 'ttl': None}\n"
     ]
    }
   ],
   "source": [
    "# Create a Deployment in SAP AI Core\n",
    "print(\"Creating deployment.\")\n",
    "response = client.deployment.create(\n",
    "    configuration_id=configuration_id,\n",
    "    resource_group=resource_group\n",
    ")\n",
    "\n",
    "# last_check_time will be used to check the deployment status continuously afterwards\n",
    "# set initial last_check_time right after creating deployment\n",
    "last_check_time = get_current_time()\n",
    "deployment_start_time = datetime.now()\n",
    "\n",
    "deployment_id = response.id\n",
    "status = response.status\n",
    "update_json_file(\"env.json\", \"deployment_id\", deployment_id)\n",
    "print(\"Deployment Result:\\n\", response.__dict__)"
   ]
  },
  {
   "cell_type": "markdown",
   "id": "dc074976",
   "metadata": {},
   "source": [
    "#### 5.Check the status and logs of the deployment"
   ]
  },
  {
   "cell_type": "code",
   "execution_count": 13,
   "id": "bcd4c564",
   "metadata": {},
   "outputs": [
    {
     "name": "stdout",
     "output_type": "stream",
     "text": [
      "5.Checking deployment status.\n",
      "Deployment is up and running now!\n",
      "Deployment duration: 0:02:12.083366 mins\n"
     ]
    }
   ],
   "source": [
    "print(\"5.Checking deployment status.\")\n",
    "deployment_url = f\"{base_url}/deployments/{deployment_id}\"\n",
    "deployment_log_url = f\"{deployment_url}/logs?start=\"\n",
    "interval_s = 20\n",
    "\n",
    "while status != \"RUNNING\" and status != \"DEAD\":\n",
    "    current_time = get_current_time()\n",
    "    #check deployment status\n",
    "    response = requests.get(url=deployment_url, headers=headers)\n",
    "    resp = response.json()\n",
    "    \n",
    "    status = resp['status']\n",
    "    print(f'...... Deployment Status at {current_time}......', flush=False)\n",
    "    print(f\"Deployment status: {status}\")\n",
    "\n",
    "    #retrieve deployment logs\n",
    "    response_log = requests.get(url=f\"{deployment_log_url}{last_check_time}\", headers=headers)\n",
    "    last_check_time = current_time\n",
    "    print(f\"Deployment logs: {response_log.text}\")\n",
    "\n",
    "    # Sleep for 60 secs to avoid overwhelming the API with requests\n",
    "    time.sleep(interval_s)\n",
    "\n",
    "deployment_end_time = datetime.now()\n",
    "duration_in_min = (deployment_end_time - deployment_start_time) / 60\n",
    "\n",
    "if status == \"RUNNING\":\n",
    "    print(\"Deployment is up and running now!\")\n",
    "else:\n",
    "    print(f\"Deployment {deployment_id} failed!\")   \n",
    "\n",
    "print(f\"Deployment duration: {duration_in_min} mins\")"
   ]
  }
 ],
 "metadata": {
  "kernelspec": {
   "display_name": "Python 3 (ipykernel)",
   "language": "python",
   "name": "python3"
  },
  "language_info": {
   "codemirror_mode": {
    "name": "ipython",
    "version": 3
   },
   "file_extension": ".py",
   "mimetype": "text/x-python",
   "name": "python",
   "nbconvert_exporter": "python",
   "pygments_lexer": "ipython3",
   "version": "3.11.5"
  }
 },
 "nbformat": 4,
 "nbformat_minor": 5
}
