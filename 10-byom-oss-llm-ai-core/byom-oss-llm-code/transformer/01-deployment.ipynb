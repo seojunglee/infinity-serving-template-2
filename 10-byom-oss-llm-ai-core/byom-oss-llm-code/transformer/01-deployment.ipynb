{
 "cells": [
  {
   "cell_type": "markdown",
   "id": "e7dea42f",
   "metadata": {},
   "source": [
    "### Introduction\n",
    "This notebook illustrates and automates the Continuous Deployment process for a Custom Inference Server of the open-source large language models with [Hugging Face Transformers library](https://huggingface.co/docs/transformers/en/index) into SAP AI Core. Running [Microsoft's Phi-3-vision-128k-instruct](https://huggingface.co/microsoft/Phi-3-vision-128k-instruct), Phi-3-Medium and other transformer-based large language models etc on Hugging Face in SAP AI Core through BYOM(Bring Your Own Model) approach. <br/>\n",
    "\n",
    "### Prerequisites\n",
    "Before running this notebook, please assure you have perform the [Prerequisites](../../README.md)<br/><br/>\n",
    "\n",
    "If the configuration of transformer scenario is created through SAP AI Launchpad instead of running [00-init-config.ipynb](../00-init-config.ipynb), please manually update the configuration_id in [env.json](env.json)\n",
    "```json\n",
    "{\n",
    "    \"configuration_id\": \"<YOUR_CONFIGURATION_ID_OF_TRANSFORMER_SCENARIO>\",\n",
    "    \"deployment_id\": \"<YOUR_DEPLOYMENT_ID_BASED_ON_CONFIG_ABOVE>\"\n",
    "}\n",
    "```\n",
    "\n",
    "### The high-level flow of this Continuous Deployment process:\n",
    "- Build a custom docker image adapted for SAP AI Core<br/>\n",
    "- Push the docker image to docker hub<br/>\n",
    "- Connect to SAP AI Core via SDK<br/>\n",
    "- Create a deployment<br/>\n",
    "- Check the status and logs of the deployment<br/>\n"
   ]
  },
  {
   "cell_type": "markdown",
   "id": "3925c841",
   "metadata": {},
   "source": [
    "#### 1.Build a custom docker image adapted for SAP AI Core\n",
    "Please refer to [Dockerfile](Dockerfile) for details."
   ]
  },
  {
   "cell_type": "code",
   "execution_count": null,
   "id": "42dfb1be",
   "metadata": {},
   "outputs": [],
   "source": [
    "%%sh\n",
    "# 0.Login to docker hub\n",
    "# docker login -u <YOUR_DOCKER_USER> -p <YOUR_DOCKER_ACCESS_TOKEN>\n",
    "\n",
    "# 1.Build the docker image\n",
    "docker build \\\n",
    "\t\t--platform=linux/amd64 \\\n",
    "\t\t-t docker.io/<YOUR_DOCKER_USER>/transformer:ai-core ."
   ]
  },
  {
   "cell_type": "markdown",
   "id": "6081a7cf",
   "metadata": {},
   "source": [
    "#### 2.Push the docker image to docker hub"
   ]
  },
  {
   "cell_type": "code",
   "execution_count": null,
   "id": "aa521107",
   "metadata": {},
   "outputs": [],
   "source": [
    "%%sh\n",
    "# 2.Push the docker image to docker hub to be used by deployment in SAP AI Core\n",
    "docker push docker.io/<YOUR_DOCKER_USER>/transformer:ai-core"
   ]
  },
  {
   "cell_type": "markdown",
   "id": "9332238f",
   "metadata": {},
   "source": [
    "#### 3.Initiate an SAP AI Core SDK client\n",
    "- resource_group loaded from [../config.json](../config.json)\n",
    "- ai_core_sk(service key) loaded from [../config.json](../config.json)"
   ]
  },
  {
   "cell_type": "code",
   "execution_count": null,
   "id": "90f1e9af",
   "metadata": {},
   "outputs": [],
   "source": [
    "import requests, json, time, datetime\n",
    "from datetime import datetime\n",
    "from ai_core_sdk.ai_core_v2_client import AICoreV2Client"
   ]
  },
  {
   "cell_type": "code",
   "execution_count": null,
   "id": "12912738",
   "metadata": {},
   "outputs": [],
   "source": [
    "# load the configuration from ../config.json \n",
    "with open(\"../config.json\") as f:\n",
    "    config = json.load(f)\n",
    "\n",
    "resource_group = config.get(\"resource_group\", \"default\")\n",
    "print( \"resource group: \", resource_group)"
   ]
  },
  {
   "cell_type": "code",
   "execution_count": null,
   "id": "7654d1be",
   "metadata": {},
   "outputs": [],
   "source": [
    "# Initiate an AI Core SDK client with the information of service key\n",
    "ai_core_sk = config[\"ai_core_service_key\"]\n",
    "base_url = ai_core_sk.get(\"serviceurls\").get(\"AI_API_URL\") + \"/v2/lm\"\n",
    "client = AICoreV2Client(base_url=ai_core_sk.get(\"serviceurls\").get(\"AI_API_URL\")+\"/v2\",\n",
    "                        auth_url=ai_core_sk.get(\"url\")+\"/oauth/token\",\n",
    "                        client_id=ai_core_sk.get(\"clientid\"),\n",
    "                        client_secret=ai_core_sk.get(\"clientsecret\"),\n",
    "                        resource_group=resource_group)"
   ]
  },
  {
   "cell_type": "code",
   "execution_count": null,
   "id": "3c5b6e34",
   "metadata": {},
   "outputs": [],
   "source": [
    "# Prepare the http header which will be used later through request.\n",
    "token = client.rest_client.get_token()\n",
    "headers = {\n",
    "    \"Authorization\": token,\n",
    "    \"ai-resource-group\": resource_group,\n",
    "    \"Content-Type\": \"application/json\",\n",
    "}"
   ]
  },
  {
   "cell_type": "markdown",
   "id": "d440ee60",
   "metadata": {},
   "source": [
    "#### 4.Create a deployment for Transformer scenario\n",
    "To create a deployment in SAP AI Core, it requires the corresponding resource_group and configuration_id\n",
    "- resource_group loaded from [../config.json](../config.json)\n",
    "- configuration_id of  loaded from [env.json](env.json)"
   ]
  },
  {
   "cell_type": "code",
   "execution_count": null,
   "id": "788f8134",
   "metadata": {},
   "outputs": [],
   "source": [
    "# resource_group: The target resource group to create the deployment\n",
    "# configuration_id: The target configuration to create the deployment, which is created in ../00-init-config.ipynb \n",
    "with open(\"./env.json\") as f:\n",
    "    env = json.load(f)\n",
    "\n",
    "configuration_id = env[\"configuration_id\"]\n",
    "print(\"configuration id:\", configuration_id)"
   ]
  },
  {
   "cell_type": "markdown",
   "id": "728f8856",
   "metadata": {},
   "source": [
    "**Helper function**\n",
    "- get the current UTC time in yyyy-mm-dd hh:mm:ss format, to be used to filter deployments logs"
   ]
  },
  {
   "cell_type": "code",
   "execution_count": null,
   "id": "b2c097ba",
   "metadata": {},
   "outputs": [],
   "source": [
    "# Helper function to get the current time in UTC, used to filter deployments logs\n",
    "def get_current_time():  \n",
    "    current_time = datetime.utcnow()\n",
    "    # Format current time in the desired format\n",
    "    formatted_time = current_time.strftime(\"%Y-%m-%dT%H:%M:%S.%fZ\")\n",
    "    return formatted_time"
   ]
  },
  {
   "cell_type": "markdown",
   "id": "2ff6ef20",
   "metadata": {},
   "source": [
    "**Helper function**\n",
    "- Write back the configuration value back to configuration json file"
   ]
  },
  {
   "cell_type": "code",
   "execution_count": null,
   "id": "9df6fa43",
   "metadata": {},
   "outputs": [],
   "source": [
    "# Helper function to write back the configuration value back to configuration json file\n",
    "def update_json_file(file_path, key, value):\n",
    "    # Load the JSON configuration file\n",
    "    with open(file_path, 'r') as file:\n",
    "        config = json.load(file)\n",
    "\n",
    "    # Update the value\n",
    "    config[key] = value\n",
    "\n",
    "    # Write the updated configuration back to the file\n",
    "    with open(file_path, 'w') as file:\n",
    "        json.dump(config, file, indent=4)\n",
    "        print(f\"{file_path} updated. {key}: {value}\")"
   ]
  },
  {
   "cell_type": "markdown",
   "id": "d9e20a1a",
   "metadata": {},
   "source": [
    "**Create a deployment for llama.cpp in SAP AI Core**\n",
    "- configuration_id\n",
    "- resource_group\n",
    "<br/><br/>\n",
    "The created deployment id will be written back to [env.json](env.json), which will be used in\n",
    "- [02-llama.cpp.ipynb](02-llama.cpp.ipynb)to test the inference of open-source llms with llama.cpp server in SAP AI Core\n",
    "- [04-cleanup.ipynb](04-cleanup.ipynb) to stop and delete the deployment and clean up the resource."
   ]
  },
  {
   "cell_type": "code",
   "execution_count": null,
   "id": "ab19296d",
   "metadata": {},
   "outputs": [],
   "source": [
    "# Create a Deployment in SAP AI Core\n",
    "print(\"Creating deployment.\")\n",
    "response = client.deployment.create(\n",
    "    configuration_id=configuration_id,\n",
    "    resource_group=resource_group\n",
    ")\n",
    "\n",
    "# last_check_time will be used to check the deployment status continuously afterwards\n",
    "# set initial last_check_time right after creating deployment\n",
    "last_check_time = get_current_time()\n",
    "deployment_start_time = datetime.now()\n",
    "\n",
    "deployment_id = response.id\n",
    "status = response.status\n",
    "update_json_file(\"env.json\", \"deployment_id\", deployment_id)\n",
    "print(\"Deployment Result:\\n\", response.__dict__)"
   ]
  },
  {
   "cell_type": "markdown",
   "id": "dc074976",
   "metadata": {},
   "source": [
    "#### 5.Check the status and logs of the deployment"
   ]
  },
  {
   "cell_type": "code",
   "execution_count": null,
   "id": "bcd4c564",
   "metadata": {},
   "outputs": [],
   "source": [
    "print(\"5.Checking deployment status.\")\n",
    "deployment_url = f\"{base_url}/deployments/{deployment_id}\"\n",
    "deployment_log_url = f\"{deployment_url}/logs?start=\"\n",
    "interval_s = 20\n",
    "\n",
    "while status != \"RUNNING\" and status != \"DEAD\":\n",
    "    current_time = get_current_time()\n",
    "    #check deployment status\n",
    "    response = requests.get(url=deployment_url, headers=headers)\n",
    "    resp = response.json()\n",
    "    \n",
    "    status = resp['status']\n",
    "    print(f'...... Deployment Status at {current_time}......', flush=False)\n",
    "    print(f\"Deployment status: {status}\")\n",
    "\n",
    "    #retrieve deployment logs\n",
    "    response_log = requests.get(url=f\"{deployment_log_url}{last_check_time}\", headers=headers)\n",
    "    last_check_time = current_time\n",
    "    print(f\"Deployment logs: {response_log.text}\")\n",
    "\n",
    "    # Sleep for 60 secs to avoid overwhelming the API with requests\n",
    "    time.sleep(interval_s)\n",
    "\n",
    "deployment_end_time = datetime.now()\n",
    "duration_in_min = (deployment_end_time - deployment_start_time) / 60\n",
    "\n",
    "if status == \"RUNNING\":\n",
    "    print(\"Deployment is up and running now!\")\n",
    "else:\n",
    "    print(f\"Deployment {deployment_id} failed!\")   \n",
    "\n",
    "print(f\"Deployment duration: {duration_in_min} mins\")"
   ]
  }
 ],
 "metadata": {
  "kernelspec": {
   "display_name": "Python 3 (ipykernel)",
   "language": "python",
   "name": "python3"
  },
  "language_info": {
   "codemirror_mode": {
    "name": "ipython",
    "version": 3
   },
   "file_extension": ".py",
   "mimetype": "text/x-python",
   "name": "python",
   "nbconvert_exporter": "python",
   "pygments_lexer": "ipython3",
   "version": "3.11.5"
  }
 },
 "nbformat": 4,
 "nbformat_minor": 5
}
