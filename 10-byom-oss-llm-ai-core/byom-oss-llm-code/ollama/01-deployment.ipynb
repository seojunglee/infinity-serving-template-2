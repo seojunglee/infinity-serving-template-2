{
 "cells": [
  {
   "cell_type": "markdown",
   "id": "e7dea42f",
   "metadata": {},
   "source": [
    "### Introduction\n",
    "This notebook illustrates and automates the Continuous Deployment process for bringing the popular open-source LLMs Inference Server [Ollama](https://ollama.com/) into SAP AI Core. Running LLaMa 3, Phi3, Mistral, Mixtral, LLaVa, and other [supported models in Ollama](https://ollama.com/library). <br/><br/>\n",
    "\n",
    "Please refer to this [blog post](https://community.sap.com/t5/artificial-intelligence-and-machine-learning-blogs/bring-open-source-llms-into-sap-ai-core-with-ollama/ba-p/13659769) about Bring Open-Source LLMs into SAP AI Core with Ollama for more details.\n",
    "\n",
    "### Prerequisites\n",
    "Before running this notebook, please assure you have perform the [Prerequisites](../../README.md)<br/><br/>\n",
    "\n",
    "If the configuration of ollama scenario is created through SAP AI Launchpad instead of running [00-init-config.ipynb](../00-init-config.ipynb), please manually update the configuration_id in [env.json](env.json)\n",
    "```json\n",
    "{\n",
    "    \"configuration_id\": \"<YOUR_CONFIGURATION_ID_OF_OLLAMA_SCENARIO>\",\n",
    "    \"deployment_id\": \"<WILL_BE_UPDATED_BY_THIS_NOTEBOOK>\"\n",
    "}\n",
    "```\n",
    " \n",
    "### The high-level flow of this Continuous Deployment process:\n",
    "- Build a custom Ollama docker image adapted for SAP AI Core<br/>\n",
    "- Push the docker image to docker hub<br/>\n",
    "- Connect to SAP AI Core via SDK<br/>\n",
    "- Create a deployment<br/>\n",
    "- Check the status and logs of the deployment<br/>\n"
   ]
  },
  {
   "cell_type": "markdown",
   "id": "3925c841",
   "metadata": {},
   "source": [
    "#### 1.Build a custom Ollama docker image adapted for SAP AI Core\n",
    "Please refer to [Dockerfile](Dockerfile) for details."
   ]
  },
  {
   "cell_type": "code",
   "execution_count": 1,
   "id": "42dfb1be",
   "metadata": {},
   "outputs": [
    {
     "name": "stderr",
     "output_type": "stream",
     "text": [
      "#1 [internal] load .dockerignore\n",
      "#1 transferring context: 2B done\n",
      "#1 DONE 0.0s\n",
      "\n",
      "#2 [internal] load build definition from Dockerfile\n",
      "#2 transferring dockerfile: 2.14kB done\n",
      "#2 DONE 0.0s\n",
      "\n",
      "#3 [internal] load metadata for docker.io/library/ubuntu:22.04\n",
      "#3 ...\n",
      "\n",
      "#4 [auth] library/ubuntu:pull token for registry-1.docker.io\n",
      "#4 DONE 0.0s\n",
      "\n",
      "#3 [internal] load metadata for docker.io/library/ubuntu:22.04\n",
      "#3 DONE 3.0s\n",
      "\n",
      "#5 [1/5] FROM docker.io/library/ubuntu:22.04@sha256:77906da86b60585ce12215807090eb327e7386c8fafb5402369e421f44eff17e\n",
      "#5 DONE 0.0s\n",
      "\n",
      "#6 [2/5] RUN apt-get update &&     apt-get install -y     ca-certificates     nginx     curl &&     apt-get clean &&     rm -rf /var/lib/apt/lists/*\n",
      "#6 CACHED\n",
      "\n",
      "#7 [3/5] RUN curl -fsSL https://ollama.com/install.sh | sh\n",
      "#7 CACHED\n",
      "\n",
      "#8 [4/5] RUN echo \"events { use epoll; worker_connections 128; }     http {         server {                     listen 8080;                         location ^~ /v1/api/ {                             proxy_pass http://localhost:11434/api/;                             proxy_set_header Host $host;                             proxy_set_header X-Real-IP $remote_addr;                             proxy_set_header X-Forwarded-For $proxy_add_x_forwarded_for;                             proxy_set_header X-Forwarded-Proto $scheme;                         }                         location ^~ /v1/chat/ {                             proxy_pass http://localhost:11434/v1/chat/;                             proxy_set_header Host $host;                             proxy_set_header X-Real-IP $remote_addr;                             proxy_set_header X-Forwarded-For $proxy_add_x_forwarded_for;                             proxy_set_header X-Forwarded-Proto $scheme;                         }                 }         }\" > /etc/nginx/nginx.conf &&     chmod -R 777 /var/log/nginx /var/lib/nginx /run\n",
      "#8 CACHED\n",
      "\n",
      "#9 [5/5] RUN mkdir -p /nonexistent/.ollama &&     chown -R nobody:nogroup /nonexistent &&     chmod -R 770 /nonexistent\n",
      "#9 CACHED\n",
      "\n",
      "#10 exporting to image\n",
      "#10 exporting layers done\n",
      "#10 writing image sha256:fe86c86bf03d4c79de863869e7106ac9f42ca28314e6348952797d0399da49f2 done\n",
      "#10 naming to docker.io/yatsea/ollama:ai-core done\n",
      "#10 DONE 0.0s\n"
     ]
    }
   ],
   "source": [
    "%%sh\n",
    "# 0.Login to docker hub\n",
    "docker login -u <YOUR_DOCKER_USER> -p <YOUR_DOCKER_ACCESS_TOKEN>\n",
    "\n",
    "# 1.Build the docker image\n",
    "docker build --platform=linux/amd64 -t docker.io/<YOUR_DOCKER_USER>/ollama:ai-core ."
   ]
  },
  {
   "cell_type": "markdown",
   "id": "6081a7cf",
   "metadata": {},
   "source": [
    "#### 2.Push the docker image to docker hub"
   ]
  },
  {
   "cell_type": "code",
   "execution_count": 2,
   "id": "aa521107",
   "metadata": {},
   "outputs": [
    {
     "name": "stdout",
     "output_type": "stream",
     "text": [
      "The push refers to repository [docker.io/yatsea/ollama]\n",
      "cc4bfb1098d2: Preparing\n",
      "ec2191ba96ad: Preparing\n",
      "4e4aedc3ea01: Preparing\n",
      "e4ea58157ba0: Preparing\n",
      "5498e8c22f69: Preparing\n",
      "5498e8c22f69: Layer already exists\n",
      "cc4bfb1098d2: Layer already exists\n",
      "e4ea58157ba0: Layer already exists\n",
      "ec2191ba96ad: Layer already exists\n",
      "4e4aedc3ea01: Layer already exists\n",
      "ai-core: digest: sha256:48f2bc3d2ddd7902f73e49b12599225a0b824be68c8756c744ba47d1463156c4 size: 1368\n"
     ]
    }
   ],
   "source": [
    "%%sh\n",
    "# 2.Push the docker image to docker hub to be used by deployment in SAP AI Core\n",
    "docker push docker.io/<YOUR_DOCKER_USER>/ollama:ai-core "
   ]
  },
  {
   "cell_type": "markdown",
   "id": "9332238f",
   "metadata": {},
   "source": [
    "#### 3.Initiate an SAP AI Core SDK client\n",
    "- resource_group loaded from [../config.json](../config.json)\n",
    "- ai_core_sk(service key) loaded from [../config.json](../config.json)"
   ]
  },
  {
   "cell_type": "code",
   "execution_count": 3,
   "id": "90f1e9af",
   "metadata": {},
   "outputs": [],
   "source": [
    "import requests, json, time, datetime\n",
    "from datetime import datetime\n",
    "from ai_core_sdk.ai_core_v2_client import AICoreV2Client"
   ]
  },
  {
   "cell_type": "code",
   "execution_count": 4,
   "id": "12912738",
   "metadata": {},
   "outputs": [
    {
     "name": "stdout",
     "output_type": "stream",
     "text": [
      "resource group:  oss-llm\n"
     ]
    }
   ],
   "source": [
    "# load the configuration from ../config.json \n",
    "with open(\"../config.json\") as f:\n",
    "    config = json.load(f)\n",
    "\n",
    "resource_group = config.get(\"resource_group\", \"default\")\n",
    "print( \"resource group: \", resource_group)"
   ]
  },
  {
   "cell_type": "code",
   "execution_count": 5,
   "id": "7654d1be",
   "metadata": {},
   "outputs": [],
   "source": [
    "# Initiate an AI Core SDK client with the information of service key\n",
    "ai_core_sk = config[\"ai_core_service_key\"]\n",
    "base_url = ai_core_sk.get(\"serviceurls\").get(\"AI_API_URL\") + \"/v2/lm\"\n",
    "client = AICoreV2Client(base_url=ai_core_sk.get(\"serviceurls\").get(\"AI_API_URL\")+\"/v2\",\n",
    "                        auth_url=ai_core_sk.get(\"url\")+\"/oauth/token\",\n",
    "                        client_id=ai_core_sk.get(\"clientid\"),\n",
    "                        client_secret=ai_core_sk.get(\"clientsecret\"),\n",
    "                        resource_group=resource_group)"
   ]
  },
  {
   "cell_type": "code",
   "execution_count": 6,
   "id": "3c5b6e34",
   "metadata": {},
   "outputs": [],
   "source": [
    "# Prepare the http header which will be used later through request.\n",
    "token = client.rest_client.get_token()\n",
    "headers = {\n",
    "    \"Authorization\": token,\n",
    "    \"ai-resource-group\": resource_group,\n",
    "    \"Content-Type\": \"application/json\",\n",
    "}"
   ]
  },
  {
   "cell_type": "markdown",
   "id": "d440ee60",
   "metadata": {},
   "source": [
    "#### 4.Create a deployment for Ollama scenario\n",
    "To create a deployment in SAP AI Core, it requires the corresponding resource_group and configuration_id\n",
    "- resource_group loaded from [../config.json](../config.json)\n",
    "- configuration_id of  loaded from [env.json](env.json)"
   ]
  },
  {
   "cell_type": "code",
   "execution_count": 7,
   "id": "788f8134",
   "metadata": {},
   "outputs": [
    {
     "name": "stdout",
     "output_type": "stream",
     "text": [
      "configuration id: 61fb062e-4bdb-40d7-918b-ee48fac7d48b\n"
     ]
    }
   ],
   "source": [
    "# resource_group: The target resource group to create the deployment\n",
    "# configuration_id: The target configuration to create the deployment, which is created in ../00-init-config.ipynb \n",
    "with open(\"./env.json\") as f:\n",
    "    env = json.load(f)\n",
    "\n",
    "configuration_id = env[\"configuration_id\"]\n",
    "print(\"configuration id:\", configuration_id)"
   ]
  },
  {
   "cell_type": "markdown",
   "id": "728f8856",
   "metadata": {},
   "source": [
    "**Helper function**\n",
    "- get the current UTC time in yyyy-mm-dd hh:mm:ss format, to be used to filter deployments logs"
   ]
  },
  {
   "cell_type": "code",
   "execution_count": 8,
   "id": "b2c097ba",
   "metadata": {},
   "outputs": [],
   "source": [
    "# Helper function to get the current time in UTC, used to filter deployments logs\n",
    "def get_current_time():  \n",
    "    current_time = datetime.utcnow()\n",
    "    # Format current time in the desired format\n",
    "    formatted_time = current_time.strftime(\"%Y-%m-%dT%H:%M:%S.%fZ\")\n",
    "    return formatted_time"
   ]
  },
  {
   "cell_type": "markdown",
   "id": "2ff6ef20",
   "metadata": {},
   "source": [
    "**Helper function**\n",
    "- Write back the configuration value back to configuration json file"
   ]
  },
  {
   "cell_type": "code",
   "execution_count": 9,
   "id": "9df6fa43",
   "metadata": {},
   "outputs": [],
   "source": [
    "# Helper function to write back the configuration value back to configuration json file\n",
    "def update_json_file(file_path, key, value):\n",
    "    # Load the JSON configuration file\n",
    "    with open(file_path, 'r') as file:\n",
    "        config = json.load(file)\n",
    "\n",
    "    # Update the value\n",
    "    config[key] = value\n",
    "\n",
    "    # Write the updated configuration back to the file\n",
    "    with open(file_path, 'w') as file:\n",
    "        json.dump(config, file, indent=4)\n",
    "        print(f\"{file_path} updated. {key}: {value}\")"
   ]
  },
  {
   "cell_type": "markdown",
   "id": "d9e20a1a",
   "metadata": {},
   "source": [
    "**Create a deployment for Ollama in SAP AI Core**\n",
    "- configuration_id\n",
    "- resource_group\n",
    "<br/><br/>\n",
    "The created deployment id will be written back to [env.json](env.json), which will be used in\n",
    "- [02-ollama.ipynb](02-ollama.ipynb) and [03-ollama-llava.ipynb](03-ollama-llava.ipynb) to test the inference of open-source llms with Ollama in SAP AI Core\n",
    "- [04-cleanup.ipynb](04-cleanup.ipynb) to stop the deployment and clean up the resource."
   ]
  },
  {
   "cell_type": "code",
   "execution_count": 10,
   "id": "ab19296d",
   "metadata": {},
   "outputs": [
    {
     "name": "stdout",
     "output_type": "stream",
     "text": [
      "Creating deployment.\n",
      "env.json updated. deployment_id: dc8777fe661ff053\n",
      "Deployment Result:\n",
      " {'id': 'dc8777fe661ff053', 'message': 'Deployment scheduled.', 'deployment_url': '', 'status': <Status.UNKNOWN: 'UNKNOWN'>, 'ttl': None}\n"
     ]
    }
   ],
   "source": [
    "# Create a Deployment in SAP AI Core\n",
    "print(\"Creating deployment.\")\n",
    "response = client.deployment.create(\n",
    "    configuration_id=configuration_id,\n",
    "    resource_group=resource_group\n",
    ")\n",
    "\n",
    "# last_check_time will be used to check the deployment status continuously afterwards\n",
    "# set initial last_check_time right after creating deployment\n",
    "last_check_time = get_current_time()\n",
    "deployment_start_time = datetime.now()\n",
    "\n",
    "deployment_id = response.id\n",
    "status = response.status\n",
    "update_json_file(\"env.json\", \"deployment_id\", deployment_id)\n",
    "print(\"Deployment Result:\\n\", response.__dict__)"
   ]
  },
  {
   "cell_type": "markdown",
   "id": "dc074976",
   "metadata": {},
   "source": [
    "#### 5.Check the status and logs of the deployment"
   ]
  },
  {
   "cell_type": "code",
   "execution_count": null,
   "id": "bcd4c564",
   "metadata": {},
   "outputs": [],
   "source": [
    "print(\"4.Checking deployment status.\")\n",
    "deployment_url = f\"{base_url}/deployments/{deployment_id}\"\n",
    "deployment_log_url = f\"{deployment_url}/logs?start=\"\n",
    "interval_s = 20\n",
    "\n",
    "while status != \"RUNNING\" and status != \"DEAD\":\n",
    "    current_time = get_current_time()\n",
    "    #check deployment status\n",
    "    response = requests.get(url=deployment_url, headers=headers)\n",
    "    resp = response.json()\n",
    "    \n",
    "    status = resp['status']\n",
    "    print(f'...... Deployment Status at {current_time}......', flush=False)\n",
    "    print(f\"Deployment status: {status}\")\n",
    "\n",
    "    #retrieve deployment logs\n",
    "    response_log = requests.get(url=f\"{deployment_log_url}{last_check_time}\", headers=headers)\n",
    "    last_check_time = current_time\n",
    "    print(f\"Deployment logs: {response_log.text}\")\n",
    "\n",
    "    # Sleep for 60 secs to avoid overwhelming the API with requests\n",
    "    time.sleep(interval_s)\n",
    "\n",
    "deployment_end_time = datetime.now()\n",
    "duration_in_min = (deployment_end_time - deployment_start_time) / 60\n",
    "\n",
    "if status == \"RUNNING\":\n",
    "    print(\"Deployment is up and running now!\")\n",
    "else:\n",
    "    print(f\"Deployment {deployment_id} failed!\")   \n",
    "\n",
    "print(f\"Deployment duration: {duration_in_min} mins\")"
   ]
  }
 ],
 "metadata": {
  "kernelspec": {
   "display_name": "Python 3 (ipykernel)",
   "language": "python",
   "name": "python3"
  },
  "language_info": {
   "codemirror_mode": {
    "name": "ipython",
    "version": 3
   },
   "file_extension": ".py",
   "mimetype": "text/x-python",
   "name": "python",
   "nbconvert_exporter": "python",
   "pygments_lexer": "ipython3",
   "version": "3.11.5"
  }
 },
 "nbformat": 4,
 "nbformat_minor": 5
}
