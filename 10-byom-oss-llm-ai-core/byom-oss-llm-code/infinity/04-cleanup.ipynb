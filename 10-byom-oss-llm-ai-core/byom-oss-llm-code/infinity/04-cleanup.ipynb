{
 "cells": [
  {
   "cell_type": "markdown",
   "id": "e7dea42f",
   "metadata": {},
   "source": [
    "### Introduction\n",
    "This notebook stops the deployment of [Infinity](https://michaelfeil.eu/infinity/latest/) in SAP AI Core, if the deployment is needed any more. <br/>\n",
    "### Prerequisites\n",
    "Before running this notebook, please an deployment of Infinity have been created in SAP AI Core through [01-deployment.ipynb](01-deployment.ipynb)<br/><br/>\n",
    "\n",
    "If the configuration and deployment are created through SAP AI Launchpad, please manually update the configuration_id and deployment_id in [env.json](env.json)\n",
    "```json\n",
    "{\n",
    "    \"configuration_id\": \"<YOUR_CONFIGURATION_ID_OF_INFINITY_SCENARIO>\",\n",
    "    \"deployment_id\": \"<YOUR_DEPLOYMENT_ID_BASED_ON_CONFIG_ABOVE>\"\n",
    "}\n",
    "```\n",
    " \n",
    "### The high-level flow of this Continuous Deployment process:\n",
    "- Connect to SAP AI Core via SDK<br/>\n",
    "- Stop the deployment<br/>\n"
   ]
  },
  {
   "cell_type": "markdown",
   "id": "9332238f",
   "metadata": {},
   "source": [
    "#### 1.Initiate an SAP AI Core SDK client\n",
    "resource_group and ai_core_sk(service key) loaded from [../config.json](../config.json)"
   ]
  },
  {
   "cell_type": "code",
   "execution_count": 1,
   "id": "90f1e9af",
   "metadata": {},
   "outputs": [],
   "source": [
    "import json, time\n",
    "from ai_core_sdk.ai_core_v2_client import AICoreV2Client\n",
    "from ai_core_sdk.models import Status"
   ]
  },
  {
   "cell_type": "code",
   "execution_count": 2,
   "id": "12912738",
   "metadata": {},
   "outputs": [
    {
     "name": "stdout",
     "output_type": "stream",
     "text": [
      "resource group:  oss-llm\n"
     ]
    }
   ],
   "source": [
    "# load the configuration from ../config.json \n",
    "with open(\"../config.json\") as f:\n",
    "    config = json.load(f)\n",
    "\n",
    "resource_group = config.get(\"resource_group\", \"default\")\n",
    "print( \"resource group: \", resource_group)"
   ]
  },
  {
   "cell_type": "code",
   "execution_count": 3,
   "id": "7654d1be",
   "metadata": {},
   "outputs": [],
   "source": [
    "# Initiate an AI Core SDK client with the information of service key\n",
    "ai_core_sk = config[\"ai_core_service_key\"]\n",
    "client = AICoreV2Client(base_url=ai_core_sk.get(\"serviceurls\").get(\"AI_API_URL\")+\"/v2\",\n",
    "                        auth_url=ai_core_sk.get(\"url\")+\"/oauth/token\",\n",
    "                        client_id=ai_core_sk.get(\"clientid\"),\n",
    "                        client_secret=ai_core_sk.get(\"clientsecret\"),\n",
    "                        resource_group=resource_group)"
   ]
  },
  {
   "cell_type": "markdown",
   "id": "d440ee60",
   "metadata": {},
   "source": [
    "#### 2.Stop and Delete the deployment\n",
    "To stop and delete a deployment in SAP AI Core, it requires the corresponding resource_group and configuration_id\n",
    "- resource_group loaded from [../config.json](../config.json)\n",
    "- deployment_id of  loaded from [env.json](env.json)"
   ]
  },
  {
   "cell_type": "code",
   "execution_count": 4,
   "id": "788f8134",
   "metadata": {},
   "outputs": [
    {
     "name": "stdout",
     "output_type": "stream",
     "text": [
      "deployment id:  d708dfbc04037369\n"
     ]
    }
   ],
   "source": [
    "# resource_group: The target resource group to create the deployment\n",
    "# configuration_id: The target configuration to create the deployment, which is created in ../00-init-config.ipynb \n",
    "with open(\"./env.json\") as f:\n",
    "    env = json.load(f)\n",
    "\n",
    "deployment_id = env[\"deployment_id\"]\n",
    "print(\"deployment id: \", deployment_id)"
   ]
  },
  {
   "cell_type": "code",
   "execution_count": 5,
   "id": "9df6fa43",
   "metadata": {},
   "outputs": [],
   "source": [
    "# Helper function to write back the configuration value back to configuration json file\n",
    "def update_json_file(file_path, key, value):\n",
    "    # Load the JSON configuration file\n",
    "    with open(file_path, 'r') as file:\n",
    "        config = json.load(file)\n",
    "\n",
    "    # Update the value\n",
    "    config[key] = value\n",
    "\n",
    "    # Write the updated configuration back to the file\n",
    "    with open(file_path, 'w') as file:\n",
    "        json.dump(config, file, indent=4)\n",
    "        print(f\"{file_path} updated. {key}: {value}\")"
   ]
  },
  {
   "cell_type": "markdown",
   "id": "dc074976",
   "metadata": {},
   "source": [
    "Stop and delete the deployment"
   ]
  },
  {
   "cell_type": "code",
   "execution_count": 6,
   "id": "3f0ba761",
   "metadata": {},
   "outputs": [
    {
     "name": "stdout",
     "output_type": "stream",
     "text": [
      "...... killing deployment ......\n",
      "Deployment status: Status.RUNNING\n",
      "...... killing deployment ......\n",
      "Deployment status: Status.RUNNING\n",
      "...... killing deployment ......\n",
      "Deployment status: Status.RUNNING\n",
      "...... killing deployment ......\n",
      "Deployment status: Status.RUNNING\n",
      "...... killing deployment ......\n",
      "Deployment status: Status.RUNNING\n",
      "...... killing deployment ......\n",
      "Deployment status: Status.RUNNING\n",
      "...... killing deployment ......\n",
      "Deployment status: Status.RUNNING\n",
      "...... killing deployment ......\n",
      "Deployment status: Status.RUNNING\n",
      "...... killing deployment ......\n",
      "Deployment status: Status.RUNNING\n",
      "...... killing deployment ......\n",
      "Deployment status: Status.RUNNING\n",
      "...... killing deployment ......\n",
      "Deployment status: Status.STOPPED\n",
      "Id: d708dfbc04037369, Message: Deletion scheduled\n",
      "env.json updated. deployment_id: \n"
     ]
    }
   ],
   "source": [
    "deployment = client.deployment.get(deployment_id, resource_group=resource_group)\n",
    "\n",
    "# If the deployment status isn't UNKNOWN, then stop it first\n",
    "if deployment.status != Status.UNKNOWN:\n",
    "    response = client.deployment.modify(\n",
    "        deployment_id, target_status=Status.STOPPED, resource_group=resource_group\n",
    "    )\n",
    "    interval_s = 20\n",
    "    status = None\n",
    "    while status != Status.STOPPED:\n",
    "        time.sleep(interval_s)\n",
    "        deployment = client.deployment.get(deployment_id, resource_group=resource_group)\n",
    "        status = deployment.status\n",
    "        print(\"...... killing deployment ......\", flush=True)\n",
    "        print(f\"Deployment status: {deployment.status}\")\n",
    "\n",
    "# Delete the deployment\n",
    "response = client.deployment.delete(\n",
    "    deployment_id, resource_group=resource_group\n",
    ")\n",
    "print(response)\n",
    "\n",
    "# Remove deployment_id from env.json\n",
    "update_json_file(\"env.json\", \"deployment_id\", \"\")"
   ]
  }
 ],
 "metadata": {
  "kernelspec": {
   "display_name": "Python 3 (ipykernel)",
   "language": "python",
   "name": "python3"
  },
  "language_info": {
   "codemirror_mode": {
    "name": "ipython",
    "version": 3
   },
   "file_extension": ".py",
   "mimetype": "text/x-python",
   "name": "python",
   "nbconvert_exporter": "python",
   "pygments_lexer": "ipython3",
   "version": "3.11.4"
  }
 },
 "nbformat": 4,
 "nbformat_minor": 5
}
