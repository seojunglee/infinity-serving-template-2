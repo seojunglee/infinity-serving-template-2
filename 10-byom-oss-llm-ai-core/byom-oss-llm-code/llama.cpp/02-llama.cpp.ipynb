{
 "cells": [
  {
   "cell_type": "markdown",
   "id": "a0a5a74d",
   "metadata": {},
   "source": [
    "### Introduction\n",
    "In this notebook, we will test out a mistral-7b with [llama.cpp](https://github.com/ggerganov/llama.cpp) in SAP AI Core. You can also run Running LLaMa 3, Phi3, Mistral, Mixtral, LlaVA, and other [supported models in llama.cpp](https://github.com/ggerganov/llama.cpp). \n",
    "\n",
    "### Prerequisites\n",
    "Before running this notebook, please assure you have performed the [Prerequisites](../../README.md) and [01-deployment.ipynb](01-deployment.ipynb). As a result, a deployment of llama.cpp scenario is running in SAP AI Core. <br/><br/>\n",
    "\n",
    "If the configuration and deployment are created through SAP AI Launchpad, please manually update the configuration_id and deployment_id in [env.json](env.json)\n",
    "```json\n",
    "{\n",
    "    \"configuration_id\": \"<YOUR_CONFIGURATION_ID_OF_LLAMA.CPP_SCENARIO>\",\n",
    "    \"deployment_id\": \"<YOUR_DEPLOYMENT_ID_BASED_ON_CONFIG_ABOVE>\"\n",
    "}\n",
    "```\n",
    " \n",
    "### The high-level flow:\n",
    "- Load configurations info\n",
    "- Connect to SAP AI Core via SDK\n",
    "- Check the status and logs of the deployment\n",
    "- Inference the model with OpenAI-compatible chat completion API\n"
   ]
  },
  {
   "cell_type": "markdown",
   "id": "0c55bd7b",
   "metadata": {},
   "source": [
    "#### 1.Load config info \n",
    "- resource_group loaded from [config.json](../config.json)\n",
    "- deployment_id(created in 01-deployment.ipynb) loaded [env.json](env.json)"
   ]
  },
  {
   "cell_type": "code",
   "execution_count": 1,
   "id": "90f1e9af",
   "metadata": {},
   "outputs": [],
   "source": [
    "import requests, json\n",
    "from ai_api_client_sdk.ai_api_v2_client import AIAPIV2Client"
   ]
  },
  {
   "cell_type": "code",
   "execution_count": 2,
   "id": "5eee26b6",
   "metadata": {},
   "outputs": [
    {
     "name": "stdout",
     "output_type": "stream",
     "text": [
      "deployment id:  d2b3f7ffbde78b38  resource group:  oss-llm\n"
     ]
    }
   ],
   "source": [
    "# Please replace the configurations below.\n",
    "# config_id: The target configuration to create the deployment. Please create the configuration first.\n",
    "with open(\"../config.json\") as f:\n",
    "    config = json.load(f)\n",
    "\n",
    "with open(\"./env.json\") as f:\n",
    "    env = json.load(f)\n",
    "\n",
    "deployment_id = env[\"deployment_id\"]\n",
    "resource_group = config.get(\"resource_group\", \"default\")\n",
    "print(\"deployment id: \", deployment_id, \" resource group: \", resource_group)"
   ]
  },
  {
   "cell_type": "markdown",
   "id": "7fd694c3",
   "metadata": {},
   "source": [
    "#### 2.Initiate connection to SAP AI Core "
   ]
  },
  {
   "cell_type": "code",
   "execution_count": 3,
   "id": "1a4cc0c7",
   "metadata": {},
   "outputs": [],
   "source": [
    "aic_sk = config[\"ai_core_service_key\"]\n",
    "base_url = aic_sk[\"serviceurls\"][\"AI_API_URL\"] + \"/v2/lm\"\n",
    "ai_api_client = AIAPIV2Client(\n",
    "    base_url= base_url,\n",
    "    auth_url=aic_sk[\"url\"] + \"/oauth/token\",\n",
    "    client_id=aic_sk['clientid'],\n",
    "    client_secret=aic_sk['clientsecret'],\n",
    "    resource_group=resource_group)"
   ]
  },
  {
   "cell_type": "code",
   "execution_count": 4,
   "id": "9ffb297c",
   "metadata": {},
   "outputs": [],
   "source": [
    "token = ai_api_client.rest_client.get_token()\n",
    "headers = {\n",
    "        \"Authorization\": token,\n",
    "        'ai-resource-group': resource_group,\n",
    "        \"Content-Type\": \"application/json\"}\n"
   ]
  },
  {
   "cell_type": "markdown",
   "id": "55d7b416",
   "metadata": {},
   "source": [
    "#### 3.Check the deployment status "
   ]
  },
  {
   "cell_type": "code",
   "execution_count": 5,
   "id": "d46cf76e",
   "metadata": {},
   "outputs": [
    {
     "name": "stdout",
     "output_type": "stream",
     "text": [
      "Deployment-d2b3f7ffbde78b38 is running. Ready for inference request\n"
     ]
    }
   ],
   "source": [
    "# Check deployment status before inference request\n",
    "deployment_url = f\"{base_url}/deployments/{deployment_id}\"\n",
    "response = requests.get(url=deployment_url, headers=headers)\n",
    "resp = response.json()    \n",
    "status = resp['status']\n",
    "\n",
    "deployment_log_url = f\"{base_url}/deployments/{deployment_id}/logs\"\n",
    "if status == \"RUNNING\":\n",
    "        print(f\"Deployment-{deployment_id} is running. Ready for inference request\")\n",
    "else:\n",
    "        print(f\"Deployment-{deployment_id} status: {status}. Not yet ready for inference request\")\n",
    "        #retrieve deployment logs\n",
    "        #{{apiurl}}/v2/lm/deployments/{{deploymentid}}/logs.\n",
    "\n",
    "        response = requests.get(deployment_log_url, headers=headers)\n",
    "        print('Deployment Logs:\\n', response.text)\n"
   ]
  },
  {
   "cell_type": "markdown",
   "id": "67a7d13c",
   "metadata": {},
   "source": [
    "#### 4.Inference completion and chat completion APIs\n",
    "- model: Must be the exact model alias defined in [../config.json](../config.json) > configurations > llama.cpp parameters > {\"key\": \"alias\", \"value\": \"xxx\"}. Default as \"mistral\""
   ]
  },
  {
   "cell_type": "code",
   "execution_count": 23,
   "id": "c0658246",
   "metadata": {},
   "outputs": [],
   "source": [
    "model = \"mistral\"  # Important: Must be the exact model alias defined in ../config.json > configurations > llama.cpp. \n",
    "#model = \"mixtral\" # Important: please resource plan to infer.l in byom-oss-llm-templates/ollama-template.yaml\n",
    "deployment = ai_api_client.deployment.get(deployment_id)\n",
    "inference_base_url = f\"{deployment.deployment_url}\"\n",
    "openai_chat_api_endpoint = f\"{inference_base_url}/v1/chat/completions\"\n",
    "openai_completion_api_endpoint = f\"{inference_base_url}/v1/completions\""
   ]
  },
  {
   "cell_type": "code",
   "execution_count": 11,
   "id": "97029db7",
   "metadata": {},
   "outputs": [
    {
     "name": "stdout",
     "output_type": "stream",
     "text": [
      "https://api.ai.prod.eu-central-1.aws.ml.hana.ondemand.com/v2/inference/deployments/d2b3f7ffbde78b38/v1/v1/models\n",
      "Result: {\"data\":[{\"created\":1711535689,\"id\":\"mistral\",\"meta\":{\"n_ctx_train\":32768,\"n_embd\":4096,\"n_params\":7241732096,\"n_vocab\":32000,\"size\":5130674176,\"vocab_type\":1},\"object\":\"model\",\"owned_by\":\"llamacpp\"}],\"object\":\"list\"}\n"
     ]
    }
   ],
   "source": [
    "# List models\n",
    "endpoint = f\"{inference_base_url}/v1/models\"\n",
    "print(endpoint)\n",
    "\n",
    "response = requests.get(url=endpoint, headers=headers)\n",
    "print('Result:', response.text)"
   ]
  },
  {
   "cell_type": "markdown",
   "id": "8848db40",
   "metadata": {},
   "source": [
    "##### 4.1 Sample#1: Test OpenAI compatible API for Chat Completion\n",
    "Now let's test its [OpenAI compatible API for Chat Completion](https://github.com/ggerganov/llama.cpp/tree/master/examples/server), which is the exact API interface of Chat Completion of GPT-3.5/4 in SAP Generative AI Hub. "
   ]
  },
  {
   "cell_type": "code",
   "execution_count": 12,
   "id": "d3725c7b",
   "metadata": {},
   "outputs": [
    {
     "name": "stdout",
     "output_type": "stream",
     "text": [
      "Result: {\"choices\":[{\"finish_reason\":\"stop\",\"index\":0,\"message\":{\"content\":\" The sky appears blue due to a natural phenomenon called Rayleigh scattering. As sunlight reaches Earth's atmosphere, it interacts with gases and particles in the air, causing the scattering of light in various directions. Blue light is scattered more easily than other colors because it travels in smaller, shorter waves. This scattered blue light is what we see when we look up at the sky.\",\"role\":\"assistant\"}}],\"created\":1711535711,\"id\":\"chatcmpl-gMZW9pG7IQUhGkx147KZ3wKdycQT6n1J\",\"model\":\"mistral\",\"object\":\"chat.completion\",\"usage\":{\"completion_tokens\":79,\"prompt_tokens\":21,\"total_tokens\":100}}\n"
     ]
    }
   ],
   "source": [
    "#let's try its openai-compatible chat completion api\n",
    "sys_msg = \"You are an helpful AI assistant\"\n",
    "user_msg = \"why the sky is blue?\"\n",
    "\n",
    "json_data = { \n",
    "  \"model\": model, \n",
    "  \"messages\": [\n",
    "            {\n",
    "                \"role\": \"system\",\n",
    "                \"content\": sys_msg\n",
    "            },\n",
    "            {\n",
    "                \"role\": \"user\",\n",
    "                #\"content\": \"why is the sky blue?\"\n",
    "                \"content\": user_msg\n",
    "            }\n",
    "        ]\n",
    "}\n",
    "\n",
    "response = requests.post(openai_chat_api_endpoint, headers=headers, json=json_data)\n",
    "print('Result:', response.text)"
   ]
  },
  {
   "cell_type": "markdown",
   "id": "9e4c9f16",
   "metadata": {},
   "source": [
    "##### Sample#2: Write a haiku about running llama.cpp in AI Core"
   ]
  },
  {
   "cell_type": "code",
   "execution_count": 13,
   "id": "c824efcd",
   "metadata": {},
   "outputs": [
    {
     "name": "stdout",
     "output_type": "stream",
     "text": [
      "Result: {'choices': [{'finish_reason': 'stop', 'index': 0, 'message': {'content': ' Code awakens, llama runs, Silence in AI\\'s core.\\n\\nExplanation: In this haiku, I have tried to convey the idea of running a C++ file named \"llama.cpp\" in an Artificial Intelligence (AI) core or system. The first line represents the code coming to life and being executed. The second line signifies the llama file (which could be any program or script) running smoothly within the AI\\'s environment. Lastly, the third line emphasizes the quiet and focused nature of the AI core during the execution process.', 'role': 'assistant'}}], 'created': 1711535722, 'id': 'chatcmpl-yDUcXiDDXNb3UcL7v51QZN3NYX7Pach3', 'model': 'mistral', 'object': 'chat.completion', 'usage': {'completion_tokens': 123, 'prompt_tokens': 27, 'total_tokens': 150}}\n"
     ]
    }
   ],
   "source": [
    "#let's test its openai-compatible chat completion api by writing a haiku\n",
    "sys_msg = \"You are a helpful assistant\"\n",
    "user_msg = \"Write a haiku for running llama.cpp in AI Core\"\n",
    "json_data = {\n",
    "  \"model\": model,\n",
    "  \"messages\": [\n",
    "            {\n",
    "                \"role\": \"system\",\n",
    "                \"content\": sys_msg\n",
    "            },\n",
    "            {\n",
    "                \"role\": \"user\",\n",
    "                \"content\": user_msg\n",
    "            }\n",
    "        ]\n",
    "}\n",
    "\n",
    "response = requests.post(openai_chat_api_endpoint, headers=headers, json=json_data)\n",
    "print('Result:', response.json())"
   ]
  },
  {
   "cell_type": "markdown",
   "id": "ea8b4ab1",
   "metadata": {},
   "source": [
    "##### 4.3 Sample#3: Customer Message Processing \n",
    "In our sample [btp-industry-use-cases/04-customer-interaction-gpt4](https://github.com/SAP-samples/btp-industry-use-cases/tree/main/04-customer-interaction-gpt4),GPT-3.5/4 is used to process customer messages in customer interactions and output in json schema with plain prompting.\n",
    "- Summarize customer message into title and a short description\n",
    "- Analyze the sentiment of the customer message\n",
    "- Extract the entities from the customer message, such as customer, product, order no etc.\n",
    "\n",
    "Let's see if the same scenario could be achieved with mistral-7b.\n"
   ]
  },
  {
   "cell_type": "code",
   "execution_count": 40,
   "id": "74cfc90b",
   "metadata": {},
   "outputs": [
    {
     "name": "stdout",
     "output_type": "stream",
     "text": [
      "Result: {\"choices\":[{\"finish_reason\":\"stop\",\"index\":0,\"message\":{\"content\":\" {\\n\\\"sentiment\\\": \\\"Negative\\\",\\n\\\"title\\\": \\\"Customer Expresses Dissatisfaction with Coffee Machine\\\",\\n\\\"summary\\\": \\\"The customer encountered issues with their coffee machine, which stopped brewing and frothing after a few seconds. They took it back for repair under warranty but the problem persisted. The customer is not confident in the machine's longevity and expressed frustration over the lack of information provided during the repair process. Purchased at Harvey Norman for $1,349.\\\",\\n\\\"entities\\\": [\\n{\\n\\\"field\\\": \\\"product_name\\\",\\n\\\"value\\\": \\\"coffee machine\\\"\\n},\\n{\\n\\\"field\\\": \\\"purchase_price\\\",\\n\\\"value\\\": \\\"$1,349\\\"\\n},\\n{\\n\\\"field\\\": \\\"store_name\\\",\\n\\\"value\\\": \\\"Harvey Norman\\\"\\n}\\n]\\n}\",\"role\":\"assistant\"}}],\"created\":1711545003,\"id\":\"chatcmpl-ObXAZInyRluYvzbjFUzW2aeCJTIOQmJZ\",\"model\":\"mistral\",\"object\":\"chat.completion\",\"usage\":{\"completion_tokens\":188,\"prompt_tokens\":577,\"total_tokens\":765}}\n"
     ]
    }
   ],
   "source": [
    "# Let's test its openai-compatible chat completion api with to process customer message with\n",
    "# summarization, sentiment analysis and entities extraction and output as json\n",
    "sys_msg = r'''\n",
    "You are an AI assistant to process the input text. Here are your tasks on the text.\n",
    "1.Apply Sentiment Analysis\n",
    "2.Generate a title less than 100 characters,and summarize the text into a short description less than 200 characters\n",
    "3.Extract the entities such as customer,product,order,delivery,invoice etc from the text Here is a preliminary list of the target entity fields and description. Please extract all the identifiable entities even not in the list below. Don't include any field with unknown value.\n",
    "-customer_no: alias customer number, customer id, account id, account number which could be used to identify a customer.\n",
    "-customer_name: customer name, account name\n",
    "-customer_phone: customer contact number. -product_no: product number, product id\n",
    "-product_name\n",
    "-order_no: sales order number, order id\n",
    "-order_date \n",
    "-delivery_no: delivery number, delivery id\n",
    "-delivery_date: delivery date, shipping date\n",
    "-invoice_no: alias invoice number, invoice id, receipt number, receipt id etc. which can be used to locate a invoice.\n",
    "-invoice_date: invoice date, purchase date\n",
    "-store_name\n",
    "-store_location\n",
    "etc.\n",
    "    \n",
    "For those fields not in list must follow the Snakecase name conversation like product_name, no space allow. \n",
    "\n",
    "Output expected in JSON format as below: \n",
    "{\\\"sentiment\\\":\\\"{{Positive/Neutral/Negative}}\\\",\\\"title\\\":\\\"{{The generated title based on the input text less than 100 characters}}\\\",\\\"summary\\\":\\\"{{The generated summary based on the input text less than 300 characters}}\\\",\\\"entities\\\":[{\\\"field\\\":\\\"{{the extracted fields such as product_name listed above}}\\\",\\\"value\\\":\\\"{{the extracted value of the field}}\\\"}]}\n",
    "'''\n",
    "\n",
    "user_msg = r'''\n",
    "Input text: \n",
    "Everything was working fine one day I went to make a shot of coffee it stopped brewing after 3 seconds Then I tried the milk frother it stopped after 3 seconds again I took it back they fixed it under warranty but it’s happening again I don’t see this machine lasting more then 2 years to be honest I’m spewing I actually really like the machine It’s almost like it’s losing pressure somewhere, they wouldn’t tell my what the problem was when they fixed it.. Purchased at Harvey Norman for $1,349.\n",
    "Product is used: Several times a week\n",
    " \n",
    "JSON:\n",
    "'''\n",
    "\n",
    "json_data = { \n",
    "  \"model\": model,\n",
    "  \"response_format\": {\"type\": \"json_object\"}, #JSON mode\n",
    "  \"messages\": [\n",
    "            {\n",
    "                \"role\": \"system\",\n",
    "                \"content\": sys_msg\n",
    "            },\n",
    "            {\n",
    "                \"role\": \"user\",\n",
    "                #\"content\": \"why is the sky blue?\"\n",
    "                \"content\": user_msg\n",
    "            }\n",
    "        ]\n",
    "}\n",
    "\n",
    "response = requests.post(url=openai_chat_api_endpoint, headers=headers, json=json_data)\n",
    "print('Result:', response.text)"
   ]
  },
  {
   "cell_type": "markdown",
   "id": "9726f171",
   "metadata": {},
   "source": [
    "Next let's constrain the structured JSON output with [BNF Grammar](https://github.com/ggerganov/llama.cpp/blob/master/grammars/README.md)"
   ]
  },
  {
   "cell_type": "code",
   "execution_count": 41,
   "id": "31f92492",
   "metadata": {},
   "outputs": [
    {
     "name": "stdout",
     "output_type": "stream",
     "text": [
      "Result: {\"choices\":[{\"finish_reason\":\"stop\",\"index\":0,\"message\":{\"content\":\"{\\\"sentiment\\\": \\\"Negative\\\", \\\"title\\\": \\\"Customer Expresses Dissatisfaction with Coffee Machine\\\", \\\"summary\\\": \\\"The customer encountered issues with their coffee machine, which stopped brewing and frothing after a few seconds. They took it back for repair under warranty but the problem persisted. The customer is uncertain about the machine's longevity and expressed frustration over the lack of information provided during the repair process. Purchased at Harvey Norman for $1,349.\\\", \\\"entities\\\": [{\\\"field\\\": \\\"product_name\\\", \\\"value\\\": \\\"coffee machine\\\"}, {\\\"field\\\": \\\"purchase_date\\\", \\\"value\\\": \\\"Purchased at Harvey Norman\\\"}, {\\\"field\\\": \\\"price\\\", \\\"value\\\": \\\"$1,349\\\"}]}\",\"role\":\"assistant\"}}],\"created\":1711545268,\"id\":\"chatcmpl-ZOFB3NAjmrAEJsq4kK9P2EatldNe6Nam\",\"model\":\"mistral\",\"object\":\"chat.completion\",\"usage\":{\"completion_tokens\":162,\"prompt_tokens\":577,\"total_tokens\":739}}\n"
     ]
    }
   ],
   "source": [
    "# Let's test its openai-compatible chat completion api with to process customer message with\n",
    "# summarization, sentiment analysis and entities extraction and output as json\n",
    "\n",
    "grammar = r'''\n",
    "entities ::= \"[\" space ( entities-item ( \",\" space entities-item )* )? \"]\" space\n",
    "entities-item ::= \"{\" space entities-item-field-kv \",\" space entities-item-value-kv \"}\" space\n",
    "entities-item-field-kv ::= \"\\\"field\\\"\" space \":\" space string\n",
    "entities-item-value-kv ::= \"\\\"value\\\"\" space \":\" space string\n",
    "entities-kv ::= \"\\\"entities\\\"\" space \":\" space entities\n",
    "root ::= \"{\" space sentiment-kv \",\" space title-kv \",\" space summary-kv \",\" space entities-kv \"}\" space\n",
    "sentiment-kv ::= \"\\\"sentiment\\\"\" space \":\" space sentiment-value\n",
    "sentiment-value ::= (\"\\\"Positive\\\"\" | \"\\\"Neutral\\\"\" | \"\\\"Negative\\\"\")\n",
    "space ::= \" \"?\n",
    "string ::=  \"\\\"\" (\n",
    "        [^\"\\\\] |\n",
    "        \"\\\\\" ([\"\\\\/bfnrt] | \"u\" [0-9a-fA-F] [0-9a-fA-F] [0-9a-fA-F] [0-9a-fA-F])\n",
    "      )* \"\\\"\" space\n",
    "summary-kv ::= \"\\\"summary\\\"\" space \":\" space string\n",
    "title-kv ::= \"\\\"title\\\"\" space \":\" space string\n",
    "'''\n",
    "\n",
    "json_data = { \n",
    "  \"model\": model,\n",
    "  \"messages\": [\n",
    "            {\n",
    "                \"role\": \"system\",\n",
    "                \"content\": sys_msg\n",
    "            },\n",
    "            {\n",
    "                \"role\": \"user\",\n",
    "                #\"content\": \"why is the sky blue?\"\n",
    "                \"content\": user_msg\n",
    "            }\n",
    "        ],\n",
    "    \"grammar\": grammar\n",
    "}\n",
    "\n",
    "response = requests.post(url=openai_chat_api_endpoint, headers=headers, json=json_data)\n",
    "print('Result:', response.text)"
   ]
  },
  {
   "cell_type": "markdown",
   "id": "ad6ea960",
   "metadata": {},
   "source": [
    "Alternatively, we can use the **completion API**"
   ]
  },
  {
   "cell_type": "code",
   "execution_count": 29,
   "id": "9557a536",
   "metadata": {},
   "outputs": [
    {
     "name": "stdout",
     "output_type": "stream",
     "text": [
      "Result: {\"content\":\"{\\\"sentiment\\\":\\\"Negative\\\",\\\"title\\\":\\\"Customer expresses dissatisfaction with coffee machine performance under warranty\\\",\\\"summary\\\":\\\"A customer shares their experience of a malfunctioning coffee machine, which required repairs under warranty but continues to have issues. They express doubts about the product’s longevity and are unhappy with the lack of information provided by the company. The machine was purchased at Harvey Norman for $1,349 and is used several times a week.\\\",\\\"entities\\\":[{\\\"field\\\":\\\"product_name\\\",\\\"value\\\":\\\"coffee machine\\\"},{\\\"field\\\":\\\"customer_phone\\\",\\\"value\\\":\\\"not mentioned in text\\\"},{\\\"field\\\":\\\"store_name\\\",\\\"value\\\":\\\"Harvey Norman\\\"}]}\",\"generation_settings\":{\"dynatemp_exponent\":1.0,\"dynatemp_range\":0.0,\"frequency_penalty\":0.0,\"grammar\":\"\\nentities ::= \\\"[\\\" space ( entities-item ( \\\",\\\" space entities-item )* )? \\\"]\\\" space\\nentities-item ::= \\\"{\\\" space entities-item-field-kv \\\",\\\" space entities-item-value-kv \\\"}\\\" space\\nentities-item-field-kv ::= \\\"\\\\\\\"field\\\\\\\"\\\" space \\\":\\\" space string\\nentities-item-value-kv ::= \\\"\\\\\\\"value\\\\\\\"\\\" space \\\":\\\" space string\\nentities-kv ::= \\\"\\\\\\\"entities\\\\\\\"\\\" space \\\":\\\" space entities\\nroot ::= \\\"{\\\" space sentiment-kv \\\",\\\" space title-kv \\\",\\\" space summary-kv \\\",\\\" space entities-kv \\\"}\\\" space\\nsentiment-kv ::= \\\"\\\\\\\"sentiment\\\\\\\"\\\" space \\\":\\\" space string\\nspace ::= \\\" \\\"?\\nstring ::=  \\\"\\\\\\\"\\\" (\\n        [^\\\"\\\\\\\\] |\\n        \\\"\\\\\\\\\\\" ([\\\"\\\\\\\\/bfnrt] | \\\"u\\\" [0-9a-fA-F] [0-9a-fA-F] [0-9a-fA-F] [0-9a-fA-F])\\n      )* \\\"\\\\\\\"\\\" space\\nsummary-kv ::= \\\"\\\\\\\"summary\\\\\\\"\\\" space \\\":\\\" space string\\ntitle-kv ::= \\\"\\\\\\\"title\\\\\\\"\\\" space \\\":\\\" space string\\n\",\"ignore_eos\":false,\"logit_bias\":[],\"min_keep\":0,\"min_p\":0.05000000074505806,\"mirostat\":0,\"mirostat_eta\":0.10000000149011612,\"mirostat_tau\":5.0,\"model\":\"mistral\",\"n_ctx\":4098,\"n_keep\":0,\"n_predict\":-1,\"n_probs\":0,\"penalize_nl\":true,\"penalty_prompt_tokens\":[],\"presence_penalty\":0.0,\"repeat_last_n\":64,\"repeat_penalty\":1.100000023841858,\"samplers\":[\"top_k\",\"tfs_z\",\"typical_p\",\"top_p\",\"min_p\",\"temperature\"],\"seed\":4294967295,\"stop\":[],\"stream\":false,\"temperature\":0.800000011920929,\"tfs_z\":1.0,\"top_k\":40,\"top_p\":0.949999988079071,\"typical_p\":1.0,\"use_penalty_prompt_tokens\":false},\"id_slot\":0,\"model\":\"mistral\",\"prompt\":\"You are an AI assistant to process the input text. Here are your tasks on the text. 1.Apply Sentiment Analysis 2.Generate a title less than 100 characters,and summarize the text into a short description less than 200 characters 3.Extract the entities such as customer,product,order,delivery,invoice etc from the text Here is a preliminary list of the target entity fields and description. Please extract all the identifiable entities even not in the list below. Don't include any field with unknown value. -customer_no: alias customer number, customer id, account id, account number which could be used to identify a customer. -customer_name: customer name, account name -customer_phone: customer contact number. -product_no: product number, product id -product_name -order_no: sales order number, order id -order_date -delivery_no: delivery number, delivery id -delivery_date: delivery date, shipping date -invoice_no: alias invoice number, invoice id, receipt number, receipt id etc. which can be used to locate a invoice. -invoice_date: invoice date, purchase date -store_name -store_location etc.     For those fields not in list must follow the Snakecase name conversation like product_name, no space allow.  Output expected in JSON format as below: {\\\"sentiment\\\":\\\"{{Positive/Neutral/Negative}}\\\",\\\"title\\\":\\\"{{The generated title based on the input text less than 100 characters}}\\\",\\\"summary\\\":\\\"{{The generated summary based on the input text less than 300 characters}}\\\",\\\"entities\\\":[{\\\"field\\\":\\\"{{the extracted fields such as product_name listed above}}\\\",\\\"value\\\":\\\"{{the extracted value of the field}}\\\"}]}/nInput text: Everything was working fine one day I went to make a shot of coffee it stopped brewing after 3 seconds Then I tried the milk frother it stopped after 3 seconds again I took it back they fixed it under warranty but it’s happening again I don’t see this machine lasting more then 2 years to be honest I’m spewing I actually really like the machine It’s almost like it’s losing pressure somewhere, they wouldn’t tell my what the problem was when they fixed it.. Purchased at Harvey Norman for $1,349. Product is used: Several times a week  JSON:\",\"stop\":true,\"stopped_eos\":true,\"stopped_limit\":false,\"stopped_word\":false,\"stopping_word\":\"\",\"timings\":{\"predicted_ms\":4083.75,\"predicted_n\":142,\"predicted_per_second\":34.77196204468932,\"predicted_per_token_ms\":28.758802816901408,\"prompt_ms\":731.333,\"prompt_n\":526,\"prompt_per_second\":719.2346031151337,\"prompt_per_token_ms\":1.3903669201520912},\"tokens_cached\":667,\"tokens_evaluated\":526,\"tokens_predicted\":142,\"truncated\":false}\n"
     ]
    }
   ],
   "source": [
    "# Let's test its openai-compatible chat completion api with to process customer message with\n",
    "# summarization, sentiment analysis and entities extraction and output as json\n",
    "json_data = {\n",
    "    \"model\": model,\n",
    "    \"prompt\": f\"{sys_msg}/n{user_msg}\",\n",
    "    \"grammar\": grammar\n",
    "}\n",
    "\n",
    "response = requests.post(\n",
    "    url=openai_completion_api_endpoint, headers=headers, json=json_data\n",
    ")\n",
    "print(\"Result:\", response.text)"
   ]
  }
 ],
 "metadata": {
  "kernelspec": {
   "display_name": "Python 3 (ipykernel)",
   "language": "python",
   "name": "python3"
  },
  "language_info": {
   "codemirror_mode": {
    "name": "ipython",
    "version": 3
   },
   "file_extension": ".py",
   "mimetype": "text/x-python",
   "name": "python",
   "nbconvert_exporter": "python",
   "pygments_lexer": "ipython3",
   "version": "3.11.5"
  }
 },
 "nbformat": 4,
 "nbformat_minor": 5
}
