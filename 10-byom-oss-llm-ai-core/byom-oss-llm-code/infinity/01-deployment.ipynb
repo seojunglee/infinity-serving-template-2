{
 "cells": [
  {
   "cell_type": "markdown",
   "id": "e7dea42f",
   "metadata": {},
   "source": [
    "### Introduction\n",
    "This notebook illustrates and automates the Continuous Deployment process for bringing the popular open-source embedding models inference service [Infinity](https://michaelfeil.eu/infinity/latest/) into SAP AI Core. \n",
    "Subsequently, with Infinity, you can load popular sentence-transformer embedding models and frameworks e.g. [nreimers/MiniLM-L6-H384-uncased](https://huggingface.co/nreimers/MiniLM-L6-H384-uncased) into it, exposing it as a service in SAP AI Core through BYOM(Bring Your Own Model) approach. <br/>\n",
    "\n",
    "### Prerequisites\n",
    "Before running this notebook, please assure you have perform the [Prerequisites](../../README.md)<br/><br/>\n",
    "\n",
    "If the configuration of infinity scenario is created through SAP AI Launchpad instead of running [00-init-config.ipynb](../00-init-config.ipynb), please manually update the configuration_id in [env.json](env.json)\n",
    "```json\n",
    "{\n",
    "    \"configuration_id\": \"<YOUR_CONFIGURATION_ID_OF_INFINITY_SCENARIO>\",\n",
    "    \"deployment_id\": \"<WILL_BE_UPDATED_BY_THIS_NOTEBOOK>\"\n",
    "}\n",
    "```\n",
    "\n",
    "### The high-level flow of this Continuous Deployment process:\n",
    "- Build a custom Infinity docker image adapted for SAP AI Core<br/>\n",
    "- Push the docker image to docker hub<br/>\n",
    "- Connect to SAP AI Core via SDK<br/>\n",
    "- Create a deployment<br/>\n",
    "- Check the status and logs of the deployment<br/>\n"
   ]
  },
  {
   "cell_type": "markdown",
   "id": "3925c841",
   "metadata": {},
   "source": [
    "#### 1.Build a custom Infinity docker image adapted for SAP AI Core\n",
    "Please refer to [Dockerfile](Dockerfile) for details."
   ]
  },
  {
   "cell_type": "code",
   "execution_count": 1,
   "id": "42dfb1be",
   "metadata": {},
   "outputs": [
    {
     "name": "stderr",
     "output_type": "stream",
     "text": [
      "#0 building with \"desktop-linux\" instance using docker driver\n",
      "\n",
      "#1 [internal] load build definition from Dockerfile\n",
      "#1 transferring dockerfile: 1.00kB 0.0s done\n",
      "#1 DONE 0.0s\n",
      "\n",
      "#2 [internal] load metadata for docker.io/pytorch/pytorch:2.3.0-cuda12.1-cudnn8-runtime\n",
      "#2 ...\n",
      "\n",
      "#3 [auth] pytorch/pytorch:pull token for registry-1.docker.io\n",
      "#3 DONE 0.0s\n",
      "\n",
      "#2 [internal] load metadata for docker.io/pytorch/pytorch:2.3.0-cuda12.1-cudnn8-runtime\n",
      "#2 DONE 2.1s\n",
      "\n",
      "#4 [internal] load .dockerignore\n",
      "#4 transferring context: 2B done\n",
      "#4 DONE 0.0s\n",
      "\n",
      "#5 [1/6] FROM docker.io/pytorch/pytorch:2.3.0-cuda12.1-cudnn8-runtime@sha256:0279f7aa29974bf64e61d0ff6e979b41a249b3662a46e30778dbf80b8c99c361\n",
      "#5 DONE 0.0s\n",
      "\n",
      "#6 [internal] load build context\n",
      "#6 transferring context: 724B 0.0s done\n",
      "#6 DONE 0.0s\n",
      "\n",
      "#7 [4/6] RUN python3 -m pip install --upgrade pip==23.2.1 --no-cache-dir &&     python3 -m pip install \"infinity-emb[all]==0.0.54\" --no-cache-dir &&     rm -rf /root/.cache/pip\n",
      "#7 CACHED\n",
      "\n",
      "#8 [5/6] COPY run.sh /usr/src/run.sh\n",
      "#8 CACHED\n",
      "\n",
      "#9 [3/6] RUN apt-get update &&     apt-get install -y     ca-certificates     nginx     curl &&     apt-get clean &&     rm -rf /var/lib/apt/lists/*\n",
      "#9 CACHED\n",
      "\n",
      "#10 [2/6] WORKDIR /usr/src\n",
      "#10 CACHED\n",
      "\n",
      "#11 [6/6] RUN mkdir -p /nonexistent/ &&     mkdir -p /hf-home/ &&     chown -R nobody:nogroup /nonexistent /hf-home/ &&     chmod -R 770 /nonexistent/ /hf-home/ &&     chmod +x /usr/src/run.sh\n",
      "#11 CACHED\n",
      "\n",
      "#12 exporting to image\n",
      "#12 exporting layers done\n",
      "#12 writing image sha256:032bd46e1af68092ada65690e7fee4ba382cba79b6053f83b0e6da7a535d325d done\n",
      "#12 naming to docker.io/seojungsierra/infinity-ko-sroberta-multitask:ai-core 0.0s done\n",
      "#12 DONE 0.0s\n",
      "\n",
      "What's Next?\n",
      "  View a summary of image vulnerabilities and recommendations → docker scout quickview\n"
     ]
    }
   ],
   "source": [
    "%%sh\n",
    "# 0.Login to docker hub\n",
    "# docker login -u <YOUR_DOCKER_USER> -p <YOUR_DOCKER_ACCESS_TOKEN>\n",
    "\n",
    "# 1.Build the docker image\n",
    "docker build --platform=linux/amd64 -t docker.io/seojungsierra/infinity-ko-sroberta-multitask:ai-core ."
   ]
  },
  {
   "cell_type": "markdown",
   "id": "6081a7cf",
   "metadata": {},
   "source": [
    "#### 2.Push the docker image to docker hub"
   ]
  },
  {
   "cell_type": "code",
   "execution_count": 2,
   "id": "aa521107",
   "metadata": {},
   "outputs": [
    {
     "name": "stdout",
     "output_type": "stream",
     "text": [
      "The push refers to repository [docker.io/seojungsierra/infinity-ko-sroberta-multitask]\n",
      "19bcc2e93034: Preparing\n",
      "b172e6fbf491: Preparing\n",
      "c734c149e46d: Preparing\n",
      "da884695c81c: Preparing\n",
      "5f70bf18a086: Preparing\n",
      "23fcdddbb6de: Preparing\n",
      "5f70bf18a086: Preparing\n",
      "36e21b1812d2: Preparing\n",
      "2d49b5c9bc32: Preparing\n",
      "e0a9f5911802: Preparing\n",
      "36e21b1812d2: Waiting\n",
      "2d49b5c9bc32: Waiting\n",
      "e0a9f5911802: Waiting\n",
      "23fcdddbb6de: Waiting\n",
      "da884695c81c: Mounted from seojungsierra/infinity-2-cesco-tenant\n",
      "b172e6fbf491: Mounted from seojungsierra/infinity-2-cesco-tenant\n",
      "5f70bf18a086: Mounted from seojungsierra/infinity-2-cesco-tenant\n",
      "19bcc2e93034: Mounted from seojungsierra/infinity-2-cesco-tenant\n",
      "c734c149e46d: Mounted from seojungsierra/infinity-2-cesco-tenant\n",
      "23fcdddbb6de: Mounted from seojungsierra/infinity-2-cesco-tenant\n",
      "2d49b5c9bc32: Mounted from seojungsierra/infinity-2-cesco-tenant\n",
      "e0a9f5911802: Mounted from seojungsierra/infinity-2-cesco-tenant\n",
      "36e21b1812d2: Mounted from seojungsierra/infinity-2-cesco-tenant\n",
      "ai-core: digest: sha256:c6f9291529c00607ce262de435f76c58e3e6e921e7695e2fca3a3b5a4b134971 size: 2412\n"
     ]
    }
   ],
   "source": [
    "%%sh\n",
    "# 2.Push the docker image to docker hub to be used by deployment in SAP AI Core\n",
    "docker push docker.io/seojungsierra/infinity-ko-sroberta-multitask:ai-core "
   ]
  },
  {
   "cell_type": "markdown",
   "id": "9332238f",
   "metadata": {},
   "source": [
    "#### 3.Initiate an SAP AI Core SDK client\n",
    "- resource_group loaded from [../config.json](../config.json)\n",
    "- ai_core_sk(service key) loaded from [../config.json](../config.json)"
   ]
  },
  {
   "cell_type": "code",
   "execution_count": 16,
   "id": "90f1e9af",
   "metadata": {},
   "outputs": [],
   "source": [
    "import requests, json, time, datetime\n",
    "from datetime import datetime\n",
    "from ai_core_sdk.ai_core_v2_client import AICoreV2Client"
   ]
  },
  {
   "cell_type": "code",
   "execution_count": 17,
   "id": "12912738",
   "metadata": {},
   "outputs": [
    {
     "name": "stdout",
     "output_type": "stream",
     "text": [
      "resource group:  oss-llm\n"
     ]
    }
   ],
   "source": [
    "# load the configuration from ../config.json \n",
    "with open(\"/Users/sierra/Desktop/CESCO/aicore-infinity-test-2-ko-sroberta-multitask/config.json\") as f:\n",
    "    config = json.load(f)\n",
    "\n",
    "resource_group = config.get(\"resource_group\", \"default\")\n",
    "print( \"resource group: \", resource_group)"
   ]
  },
  {
   "cell_type": "code",
   "execution_count": 18,
   "id": "7654d1be",
   "metadata": {},
   "outputs": [],
   "source": [
    "# Initiate an AI Core SDK client with the information of service key\n",
    "ai_core_sk = config[\"ai_core_service_key\"]\n",
    "base_url = ai_core_sk.get(\"serviceurls\").get(\"AI_API_URL\") + \"/v2/lm\"\n",
    "client = AICoreV2Client(base_url=ai_core_sk.get(\"serviceurls\").get(\"AI_API_URL\")+\"/v2\",\n",
    "                        auth_url=ai_core_sk.get(\"url\")+\"/oauth/token\",\n",
    "                        client_id=ai_core_sk.get(\"clientid\"),\n",
    "                        client_secret=ai_core_sk.get(\"clientsecret\"),\n",
    "                        resource_group=resource_group)"
   ]
  },
  {
   "cell_type": "code",
   "execution_count": 19,
   "id": "3c5b6e34",
   "metadata": {},
   "outputs": [],
   "source": [
    "# Prepare the http header which will be used later through request.\n",
    "token = client.rest_client.get_token()\n",
    "headers = {\n",
    "    \"Authorization\": token,\n",
    "    \"ai-resource-group\": resource_group,\n",
    "    \"Content-Type\": \"application/json\",\n",
    "}"
   ]
  },
  {
   "cell_type": "markdown",
   "id": "d440ee60",
   "metadata": {},
   "source": [
    "#### 4.Create a deployment for Infinity scenario\n",
    "To create a deployment in SAP AI Core, it requires the corresponding resource_group and configuration_id\n",
    "- resource_group loaded from [../config.json](../config.json)\n",
    "- configuration_id of  loaded from [env.json](env.json)"
   ]
  },
  {
   "cell_type": "code",
   "execution_count": 20,
   "id": "788f8134",
   "metadata": {},
   "outputs": [
    {
     "name": "stdout",
     "output_type": "stream",
     "text": [
      "configuration id: dd70fd0b-5dfd-40d2-a46f-7dc0f73d7c2a\n"
     ]
    }
   ],
   "source": [
    "# resource_group: The target resource group to create the deployment\n",
    "# configuration_id: The target configuration to create the deployment, which is created in ../00-init-config.ipynb \n",
    "with open(\"./env.json\") as f:\n",
    "    env = json.load(f)\n",
    "\n",
    "configuration_id = env[\"configuration_id\"]\n",
    "print(\"configuration id:\", configuration_id)"
   ]
  },
  {
   "cell_type": "markdown",
   "id": "728f8856",
   "metadata": {},
   "source": [
    "**Helper function**\n",
    "- get the current UTC time in yyyy-mm-dd hh:mm:ss format, to be used to filter deployments logs"
   ]
  },
  {
   "cell_type": "code",
   "execution_count": 21,
   "id": "b2c097ba",
   "metadata": {},
   "outputs": [],
   "source": [
    "# Helper function to get the current time in UTC, used to filter deployments logs\n",
    "def get_current_time():  \n",
    "    current_time = datetime.utcnow()\n",
    "    # Format current time in the desired format\n",
    "    formatted_time = current_time.strftime(\"%Y-%m-%dT%H:%M:%S.%fZ\")\n",
    "    return formatted_time"
   ]
  },
  {
   "cell_type": "markdown",
   "id": "2ff6ef20",
   "metadata": {},
   "source": [
    "**Helper function**\n",
    "- Write back the configuration value back to configuration json file"
   ]
  },
  {
   "cell_type": "code",
   "execution_count": 22,
   "id": "9df6fa43",
   "metadata": {},
   "outputs": [],
   "source": [
    "# Helper function to write back the configuration value back to configuration json file\n",
    "def update_json_file(file_path, key, value):\n",
    "    # Load the JSON configuration file\n",
    "    with open(file_path, 'r') as file:\n",
    "        config = json.load(file)\n",
    "\n",
    "    # Update the value\n",
    "    config[key] = value\n",
    "\n",
    "    # Write the updated configuration back to the file\n",
    "    with open(file_path, 'w') as file:\n",
    "        json.dump(config, file, indent=4)\n",
    "        print(f\"{file_path} updated. {key}: {value}\")"
   ]
  },
  {
   "cell_type": "markdown",
   "id": "d9e20a1a",
   "metadata": {},
   "source": [
    "**Create a deployment for Infinity in SAP AI Core**\n",
    "- configuration_id\n",
    "- resource_group\n",
    "<br/><br/>\n",
    "The created deployment id will be written back to [env.json](env.json), which will be used in\n",
    "- [01-deployment.ipynb](01-deployment.ipynb) and [02-embedding.ipynb](02-embedding.ipynb) to test the inference of open-source embedding with Infinity in SAP AI Core\n",
    "- [04-cleanup.ipynb](04-cleanup.ipynb) to stop the deployment and clean up the resource."
   ]
  },
  {
   "cell_type": "code",
   "execution_count": 23,
   "id": "ab19296d",
   "metadata": {},
   "outputs": [
    {
     "name": "stdout",
     "output_type": "stream",
     "text": [
      "Creating deployment.\n"
     ]
    },
    {
     "ename": "AIAPIInvalidRequestException",
     "evalue": "Failed to post /deployments: Invalid Request, Runtime Adapter Exception; The Configuration dd70fd0b-5dfd-40d2-a46f-7dc0f73d7c2a you've provided is invalid. Please ensure you supply a valid Configuration.. \n Status Code: 400, Request ID:ea1cbefb-3de1-4dd9-99bd-2af8005d99d3",
     "output_type": "error",
     "traceback": [
      "\u001b[0;31m---------------------------------------------------------------------------\u001b[0m",
      "\u001b[0;31mAIAPIInvalidRequestException\u001b[0m              Traceback (most recent call last)",
      "Cell \u001b[0;32mIn[23], line 3\u001b[0m\n\u001b[1;32m      1\u001b[0m \u001b[38;5;66;03m# Create a Deployment in SAP AI Core\u001b[39;00m\n\u001b[1;32m      2\u001b[0m \u001b[38;5;28mprint\u001b[39m(\u001b[38;5;124m\"\u001b[39m\u001b[38;5;124mCreating deployment.\u001b[39m\u001b[38;5;124m\"\u001b[39m)\n\u001b[0;32m----> 3\u001b[0m response \u001b[38;5;241m=\u001b[39m \u001b[43mclient\u001b[49m\u001b[38;5;241;43m.\u001b[39;49m\u001b[43mdeployment\u001b[49m\u001b[38;5;241;43m.\u001b[39;49m\u001b[43mcreate\u001b[49m\u001b[43m(\u001b[49m\n\u001b[1;32m      4\u001b[0m \u001b[43m    \u001b[49m\u001b[43mconfiguration_id\u001b[49m\u001b[38;5;241;43m=\u001b[39;49m\u001b[43mconfiguration_id\u001b[49m\u001b[43m,\u001b[49m\n\u001b[1;32m      5\u001b[0m \u001b[43m    \u001b[49m\u001b[43mresource_group\u001b[49m\u001b[38;5;241;43m=\u001b[39;49m\u001b[43mresource_group\u001b[49m\n\u001b[1;32m      6\u001b[0m \u001b[43m)\u001b[49m\n\u001b[1;32m      8\u001b[0m \u001b[38;5;66;03m# last_check_time will be used to check the deployment status continuously afterwards\u001b[39;00m\n\u001b[1;32m      9\u001b[0m \u001b[38;5;66;03m# set initial last_check_time right after creating deployment\u001b[39;00m\n\u001b[1;32m     10\u001b[0m last_check_time \u001b[38;5;241m=\u001b[39m get_current_time()\n",
      "File \u001b[0;32m/opt/anaconda3/envs/btp-env/lib/python3.9/site-packages/ai_api_client_sdk/resource_clients/deployment_client.py:47\u001b[0m, in \u001b[0;36mDeploymentClient.create\u001b[0;34m(self, configuration_id, ttl, resource_group)\u001b[0m\n\u001b[1;32m     45\u001b[0m \u001b[38;5;28;01mif\u001b[39;00m ttl:\n\u001b[1;32m     46\u001b[0m     body[\u001b[38;5;124m'\u001b[39m\u001b[38;5;124mttl\u001b[39m\u001b[38;5;124m'\u001b[39m] \u001b[38;5;241m=\u001b[39m ttl\n\u001b[0;32m---> 47\u001b[0m response_dict \u001b[38;5;241m=\u001b[39m \u001b[38;5;28;43mself\u001b[39;49m\u001b[38;5;241;43m.\u001b[39;49m\u001b[43mrest_client\u001b[49m\u001b[38;5;241;43m.\u001b[39;49m\u001b[43mpost\u001b[49m\u001b[43m(\u001b[49m\u001b[43mpath\u001b[49m\u001b[38;5;241;43m=\u001b[39;49m\u001b[38;5;124;43m'\u001b[39;49m\u001b[38;5;124;43m/deployments\u001b[39;49m\u001b[38;5;124;43m'\u001b[39;49m\u001b[43m,\u001b[49m\u001b[43m \u001b[49m\u001b[43mbody\u001b[49m\u001b[38;5;241;43m=\u001b[39;49m\u001b[43mbody\u001b[49m\u001b[43m,\u001b[49m\n\u001b[1;32m     48\u001b[0m \u001b[43m                                      \u001b[49m\u001b[43mresource_group\u001b[49m\u001b[38;5;241;43m=\u001b[39;49m\u001b[43mresource_group\u001b[49m\u001b[43m)\u001b[49m\n\u001b[1;32m     49\u001b[0m \u001b[38;5;28;01mreturn\u001b[39;00m DeploymentCreateResponse\u001b[38;5;241m.\u001b[39mfrom_dict(response_dict)\n",
      "File \u001b[0;32m/opt/anaconda3/envs/btp-env/lib/python3.9/site-packages/ai_api_client_sdk/helpers/rest_client.py:140\u001b[0m, in \u001b[0;36mRestClient.post\u001b[0;34m(self, path, body, headers, resource_group)\u001b[0m\n\u001b[1;32m    114\u001b[0m \u001b[38;5;28;01mdef\u001b[39;00m \u001b[38;5;21mpost\u001b[39m(\u001b[38;5;28mself\u001b[39m, path: \u001b[38;5;28mstr\u001b[39m, body: Dict[\u001b[38;5;28mstr\u001b[39m, Union[\u001b[38;5;28mstr\u001b[39m, \u001b[38;5;28mdict\u001b[39m]] \u001b[38;5;241m=\u001b[39m \u001b[38;5;28;01mNone\u001b[39;00m, headers: Dict[\u001b[38;5;28mstr\u001b[39m, \u001b[38;5;28mstr\u001b[39m] \u001b[38;5;241m=\u001b[39m \u001b[38;5;28;01mNone\u001b[39;00m,\n\u001b[1;32m    115\u001b[0m          resource_group: \u001b[38;5;28mstr\u001b[39m \u001b[38;5;241m=\u001b[39m \u001b[38;5;28;01mNone\u001b[39;00m) \u001b[38;5;241m-\u001b[39m\u001b[38;5;241m>\u001b[39m \u001b[38;5;28mdict\u001b[39m:\n\u001b[1;32m    116\u001b[0m \u001b[38;5;250m    \u001b[39m\u001b[38;5;124;03m\"\"\"Sends a POST request to the server.\u001b[39;00m\n\u001b[1;32m    117\u001b[0m \n\u001b[1;32m    118\u001b[0m \u001b[38;5;124;03m    :param path: path of the endpoint the request should be sent to\u001b[39;00m\n\u001b[0;32m   (...)\u001b[0m\n\u001b[1;32m    138\u001b[0m \u001b[38;5;124;03m    :rtype: dict\u001b[39;00m\n\u001b[1;32m    139\u001b[0m \u001b[38;5;124;03m    \"\"\"\u001b[39;00m\n\u001b[0;32m--> 140\u001b[0m     \u001b[38;5;28;01mreturn\u001b[39;00m \u001b[38;5;28;43mself\u001b[39;49m\u001b[38;5;241;43m.\u001b[39;49m\u001b[43m_handle_request\u001b[49m\u001b[43m(\u001b[49m\u001b[38;5;124;43m'\u001b[39;49m\u001b[38;5;124;43mpost\u001b[39;49m\u001b[38;5;124;43m'\u001b[39;49m\u001b[43m,\u001b[49m\u001b[43m \u001b[49m\u001b[43mpath\u001b[49m\u001b[38;5;241;43m=\u001b[39;49m\u001b[43mpath\u001b[49m\u001b[43m,\u001b[49m\u001b[43m \u001b[49m\u001b[43mbody_json\u001b[49m\u001b[38;5;241;43m=\u001b[39;49m\u001b[43mbody\u001b[49m\u001b[43m,\u001b[49m\u001b[43m \u001b[49m\u001b[43mheaders\u001b[49m\u001b[38;5;241;43m=\u001b[39;49m\u001b[43mheaders\u001b[49m\u001b[43m,\u001b[49m\u001b[43m \u001b[49m\u001b[43mresource_group\u001b[49m\u001b[38;5;241;43m=\u001b[39;49m\u001b[43mresource_group\u001b[49m\u001b[43m)\u001b[49m\n",
      "File \u001b[0;32m/opt/anaconda3/envs/btp-env/lib/python3.9/site-packages/ai_api_client_sdk/helpers/rest_client.py:96\u001b[0m, in \u001b[0;36mRestClient._handle_request\u001b[0;34m(self, method, path, params, body_json, headers, resource_group)\u001b[0m\n\u001b[1;32m     94\u001b[0m error_details \u001b[38;5;241m=\u001b[39m response_json[\u001b[38;5;124m'\u001b[39m\u001b[38;5;124merror\u001b[39m\u001b[38;5;124m'\u001b[39m]\u001b[38;5;241m.\u001b[39mget(\u001b[38;5;124m'\u001b[39m\u001b[38;5;124mdetails\u001b[39m\u001b[38;5;124m'\u001b[39m)\n\u001b[1;32m     95\u001b[0m \u001b[38;5;28;01mif\u001b[39;00m status_code \u001b[38;5;241m==\u001b[39m \u001b[38;5;241m400\u001b[39m:\n\u001b[0;32m---> 96\u001b[0m     \u001b[38;5;28;01mraise\u001b[39;00m AIAPIInvalidRequestException(description\u001b[38;5;241m=\u001b[39merror_description, error_message\u001b[38;5;241m=\u001b[39merror_message,\n\u001b[1;32m     97\u001b[0m                                        error_code\u001b[38;5;241m=\u001b[39merror_code, request_id\u001b[38;5;241m=\u001b[39mrequest_id, details\u001b[38;5;241m=\u001b[39merror_details)\n\u001b[1;32m     98\u001b[0m \u001b[38;5;28;01melif\u001b[39;00m status_code \u001b[38;5;241m==\u001b[39m \u001b[38;5;241m404\u001b[39m:\n\u001b[1;32m     99\u001b[0m     \u001b[38;5;28;01mraise\u001b[39;00m AIAPINotFoundException(description\u001b[38;5;241m=\u001b[39merror_description, error_message\u001b[38;5;241m=\u001b[39merror_message,\n\u001b[1;32m    100\u001b[0m                                  error_code\u001b[38;5;241m=\u001b[39merror_code, request_id\u001b[38;5;241m=\u001b[39mrequest_id, details\u001b[38;5;241m=\u001b[39merror_details)\n",
      "\u001b[0;31mAIAPIInvalidRequestException\u001b[0m: Failed to post /deployments: Invalid Request, Runtime Adapter Exception; The Configuration dd70fd0b-5dfd-40d2-a46f-7dc0f73d7c2a you've provided is invalid. Please ensure you supply a valid Configuration.. \n Status Code: 400, Request ID:ea1cbefb-3de1-4dd9-99bd-2af8005d99d3"
     ]
    }
   ],
   "source": [
    "# Create a Deployment in SAP AI Core\n",
    "print(\"Creating deployment.\")\n",
    "response = client.deployment.create(\n",
    "    configuration_id=configuration_id,\n",
    "    resource_group=resource_group\n",
    ")\n",
    "\n",
    "# last_check_time will be used to check the deployment status continuously afterwards\n",
    "# set initial last_check_time right after creating deployment\n",
    "last_check_time = get_current_time()\n",
    "deployment_start_time = datetime.now()\n",
    "\n",
    "deployment_id = response.id\n",
    "status = response.status\n",
    "update_json_file(\"env.json\", \"deployment_id\", deployment_id)\n",
    "print(\"Deployment Result:\\n\", response.__dict__)"
   ]
  },
  {
   "cell_type": "markdown",
   "id": "dc074976",
   "metadata": {},
   "source": [
    "#### 5.Check the status and logs of the deployment"
   ]
  },
  {
   "cell_type": "code",
   "execution_count": 10,
   "id": "bcd4c564",
   "metadata": {},
   "outputs": [
    {
     "name": "stdout",
     "output_type": "stream",
     "text": [
      "4.Checking deployment status.\n",
      "...... Deployment Status at 2024-09-19T08:18:19.996269Z......\n",
      "Deployment status: UNKNOWN\n",
      "Deployment logs: {\n",
      "  \"error\": {\n",
      "    \"code\": \"05011000\",\n",
      "    \"message\": \"DeploymentNotFoundError: Deployment d034a9b1577bc081 not found.\",\n",
      "    \"target\": \"/api/v4alpha/deployments/d034a9b1577bc081/logs\"\n",
      "  }\n",
      "}\n",
      "\n",
      "...... Deployment Status at 2024-09-19T08:18:45.037555Z......\n",
      "Deployment status: UNKNOWN\n",
      "Deployment logs: {\n",
      "  \"error\": {\n",
      "    \"code\": \"05011000\",\n",
      "    \"message\": \"DeploymentNotFoundError: Deployment d034a9b1577bc081 not found.\",\n",
      "    \"target\": \"/api/v4alpha/deployments/d034a9b1577bc081/logs\"\n",
      "  }\n",
      "}\n",
      "\n",
      "...... Deployment Status at 2024-09-19T08:19:12.393026Z......\n",
      "Deployment status: UNKNOWN\n",
      "Deployment logs: {\n",
      "  \"error\": {\n",
      "    \"code\": \"05011000\",\n",
      "    \"message\": \"DeploymentNotFoundError: Deployment d034a9b1577bc081 not found.\",\n",
      "    \"target\": \"/api/v4alpha/deployments/d034a9b1577bc081/logs\"\n",
      "  }\n",
      "}\n",
      "\n",
      "...... Deployment Status at 2024-09-19T08:19:34.480968Z......\n",
      "Deployment status: UNKNOWN\n",
      "Deployment logs: {\n",
      "  \"error\": {\n",
      "    \"code\": \"05011000\",\n",
      "    \"message\": \"DeploymentNotFoundError: Deployment d034a9b1577bc081 not found.\",\n",
      "    \"target\": \"/api/v4alpha/deployments/d034a9b1577bc081/logs\"\n",
      "  }\n",
      "}\n",
      "\n",
      "...... Deployment Status at 2024-09-19T08:19:56.547530Z......\n",
      "Deployment status: UNKNOWN\n",
      "Deployment logs: {\n",
      "  \"error\": {\n",
      "    \"code\": \"05011000\",\n",
      "    \"message\": \"DeploymentNotFoundError: Deployment d034a9b1577bc081 not found.\",\n",
      "    \"target\": \"/api/v4alpha/deployments/d034a9b1577bc081/logs\"\n",
      "  }\n",
      "}\n",
      "\n",
      "...... Deployment Status at 2024-09-19T08:20:18.479038Z......\n",
      "Deployment status: UNKNOWN\n",
      "Deployment logs: {\n",
      "  \"error\": {\n",
      "    \"code\": \"05011000\",\n",
      "    \"message\": \"DeploymentNotFoundError: Deployment d034a9b1577bc081 not found.\",\n",
      "    \"target\": \"/api/v4alpha/deployments/d034a9b1577bc081/logs\"\n",
      "  }\n",
      "}\n",
      "\n",
      "...... Deployment Status at 2024-09-19T08:20:40.610299Z......\n",
      "Deployment status: UNKNOWN\n",
      "Deployment logs: {\n",
      "  \"error\": {\n",
      "    \"code\": \"05011000\",\n",
      "    \"message\": \"DeploymentNotFoundError: Deployment d034a9b1577bc081 not found.\",\n",
      "    \"target\": \"/api/v4alpha/deployments/d034a9b1577bc081/logs\"\n",
      "  }\n",
      "}\n",
      "\n",
      "...... Deployment Status at 2024-09-19T08:21:04.770392Z......\n",
      "Deployment status: UNKNOWN\n",
      "Deployment logs: {\n",
      "  \"error\": {\n",
      "    \"code\": \"05011000\",\n",
      "    \"message\": \"DeploymentNotFoundError: Deployment d034a9b1577bc081 not found.\",\n",
      "    \"target\": \"/api/v4alpha/deployments/d034a9b1577bc081/logs\"\n",
      "  }\n",
      "}\n",
      "\n",
      "...... Deployment Status at 2024-09-19T08:21:27.424478Z......\n",
      "Deployment status: UNKNOWN\n",
      "Deployment logs: {\n",
      "  \"error\": {\n",
      "    \"code\": \"05011000\",\n",
      "    \"message\": \"DeploymentNotFoundError: Deployment d034a9b1577bc081 not found.\",\n",
      "    \"target\": \"/api/v4alpha/deployments/d034a9b1577bc081/logs\"\n",
      "  }\n",
      "}\n",
      "\n",
      "...... Deployment Status at 2024-09-19T08:21:49.435943Z......\n",
      "Deployment status: UNKNOWN\n",
      "Deployment logs: {\n",
      "  \"error\": {\n",
      "    \"code\": \"05011000\",\n",
      "    \"message\": \"DeploymentNotFoundError: Deployment d034a9b1577bc081 not found.\",\n",
      "    \"target\": \"/api/v4alpha/deployments/d034a9b1577bc081/logs\"\n",
      "  }\n",
      "}\n",
      "\n",
      "...... Deployment Status at 2024-09-19T08:22:11.445061Z......\n",
      "Deployment status: UNKNOWN\n",
      "Deployment logs: {\n",
      "  \"error\": {\n",
      "    \"code\": \"05011000\",\n",
      "    \"message\": \"DeploymentNotFoundError: Deployment d034a9b1577bc081 not found.\",\n",
      "    \"target\": \"/api/v4alpha/deployments/d034a9b1577bc081/logs\"\n",
      "  }\n",
      "}\n",
      "\n",
      "...... Deployment Status at 2024-09-19T08:22:35.958307Z......\n",
      "Deployment status: UNKNOWN\n",
      "Deployment logs: {\n",
      "  \"error\": {\n",
      "    \"code\": \"05011000\",\n",
      "    \"message\": \"DeploymentNotFoundError: Deployment d034a9b1577bc081 not found.\",\n",
      "    \"target\": \"/api/v4alpha/deployments/d034a9b1577bc081/logs\"\n",
      "  }\n",
      "}\n",
      "\n",
      "...... Deployment Status at 2024-09-19T08:22:58.086074Z......\n",
      "Deployment status: UNKNOWN\n",
      "Deployment logs: {\n",
      "  \"error\": {\n",
      "    \"code\": \"05011000\",\n",
      "    \"message\": \"DeploymentNotFoundError: Deployment d034a9b1577bc081 not found.\",\n",
      "    \"target\": \"/api/v4alpha/deployments/d034a9b1577bc081/logs\"\n",
      "  }\n",
      "}\n",
      "\n",
      "...... Deployment Status at 2024-09-19T08:23:20.423873Z......\n",
      "Deployment status: UNKNOWN\n",
      "Deployment logs: {\n",
      "  \"error\": {\n",
      "    \"code\": \"05011000\",\n",
      "    \"message\": \"DeploymentNotFoundError: Deployment d034a9b1577bc081 not found.\",\n",
      "    \"target\": \"/api/v4alpha/deployments/d034a9b1577bc081/logs\"\n",
      "  }\n",
      "}\n",
      "\n",
      "...... Deployment Status at 2024-09-19T08:23:42.346020Z......\n",
      "Deployment status: UNKNOWN\n",
      "Deployment logs: {\n",
      "  \"error\": {\n",
      "    \"code\": \"05011000\",\n",
      "    \"message\": \"DeploymentNotFoundError: Deployment d034a9b1577bc081 not found.\",\n",
      "    \"target\": \"/api/v4alpha/deployments/d034a9b1577bc081/logs\"\n",
      "  }\n",
      "}\n",
      "\n"
     ]
    },
    {
     "ename": "KeyboardInterrupt",
     "evalue": "",
     "output_type": "error",
     "traceback": [
      "\u001b[0;31m---------------------------------------------------------------------------\u001b[0m",
      "\u001b[0;31mKeyboardInterrupt\u001b[0m                         Traceback (most recent call last)",
      "Cell \u001b[0;32mIn[10], line 22\u001b[0m\n\u001b[1;32m     19\u001b[0m     \u001b[38;5;28mprint\u001b[39m(\u001b[38;5;124mf\u001b[39m\u001b[38;5;124m\"\u001b[39m\u001b[38;5;124mDeployment logs: \u001b[39m\u001b[38;5;132;01m{\u001b[39;00mresponse_log\u001b[38;5;241m.\u001b[39mtext\u001b[38;5;132;01m}\u001b[39;00m\u001b[38;5;124m\"\u001b[39m)\n\u001b[1;32m     21\u001b[0m     \u001b[38;5;66;03m# Sleep for 60 secs to avoid overwhelming the API with requests\u001b[39;00m\n\u001b[0;32m---> 22\u001b[0m     \u001b[43mtime\u001b[49m\u001b[38;5;241;43m.\u001b[39;49m\u001b[43msleep\u001b[49m\u001b[43m(\u001b[49m\u001b[43minterval_s\u001b[49m\u001b[43m)\u001b[49m\n\u001b[1;32m     24\u001b[0m deployment_end_time \u001b[38;5;241m=\u001b[39m datetime\u001b[38;5;241m.\u001b[39mnow()\n\u001b[1;32m     25\u001b[0m duration_in_min \u001b[38;5;241m=\u001b[39m (deployment_end_time \u001b[38;5;241m-\u001b[39m deployment_start_time) \u001b[38;5;241m/\u001b[39m \u001b[38;5;241m60\u001b[39m\n",
      "\u001b[0;31mKeyboardInterrupt\u001b[0m: "
     ]
    }
   ],
   "source": [
    "print(\"4.Checking deployment status.\")\n",
    "deployment_url = f\"{base_url}/deployments/{deployment_id}\"\n",
    "deployment_log_url = f\"{deployment_url}/logs?start=\"\n",
    "interval_s = 20\n",
    "\n",
    "while status != \"RUNNING\" and status != \"DEAD\":\n",
    "    current_time = get_current_time()\n",
    "    #check deployment status\n",
    "    response = requests.get(url=deployment_url, headers=headers)\n",
    "    resp = response.json()\n",
    "    \n",
    "    status = resp['status']\n",
    "    print(f'...... Deployment Status at {current_time}......', flush=False)\n",
    "    print(f\"Deployment status: {status}\")\n",
    "\n",
    "    #retrieve deployment logs\n",
    "    response_log = requests.get(url=f\"{deployment_log_url}{last_check_time}\", headers=headers)\n",
    "    last_check_time = current_time\n",
    "    print(f\"Deployment logs: {response_log.text}\")\n",
    "\n",
    "    # Sleep for 60 secs to avoid overwhelming the API with requests\n",
    "    time.sleep(interval_s)\n",
    "\n",
    "deployment_end_time = datetime.now()\n",
    "duration_in_min = (deployment_end_time - deployment_start_time) / 60\n",
    "\n",
    "if status == \"RUNNING\":\n",
    "    print(\"Deployment is up and running now!\")\n",
    "else:\n",
    "    print(f\"Deployment {deployment_id} failed!\")   \n",
    "\n",
    "print(f\"Deployment duration: {duration_in_min} mins\")"
   ]
  }
 ],
 "metadata": {
  "kernelspec": {
   "display_name": "Python 3 (ipykernel)",
   "language": "python",
   "name": "python3"
  },
  "language_info": {
   "codemirror_mode": {
    "name": "ipython",
    "version": 3
   },
   "file_extension": ".py",
   "mimetype": "text/x-python",
   "name": "python",
   "nbconvert_exporter": "python",
   "pygments_lexer": "ipython3",
   "version": "3.9.19"
  }
 },
 "nbformat": 4,
 "nbformat_minor": 5
}
